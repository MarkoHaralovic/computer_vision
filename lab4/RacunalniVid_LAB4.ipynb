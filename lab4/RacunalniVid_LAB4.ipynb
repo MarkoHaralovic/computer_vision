{
  "nbformat": 4,
  "nbformat_minor": 0,
  "metadata": {
    "colab": {
      "provenance": [],
      "gpuType": "T4",
      "include_colab_link": true
    },
    "kernelspec": {
      "name": "python3",
      "display_name": "Python 3"
    },
    "language_info": {
      "name": "python"
    },
    "accelerator": "GPU"
  },
  "cells": [
    {
      "cell_type": "markdown",
      "metadata": {
        "id": "view-in-github",
        "colab_type": "text"
      },
      "source": [
        "<a href=\"https://colab.research.google.com/github/MarkoHaralovic/computer_vision/blob/main/lab4/RacunalniVid_LAB4.ipynb\" target=\"_parent\"><img src=\"https://colab.research.google.com/assets/colab-badge.svg\" alt=\"Open In Colab\"/></a>"
      ]
    },
    {
      "cell_type": "markdown",
      "source": [
        "### Predgovor\n",
        "Ova vježba sastoji se od teoretskog i praktičnog dijela. Bez adekvatnog teorijskog razumijevanja, izvedba vježbe biti će značajno izazovnija.\n",
        "\n",
        "Predlažemo da napravite kopiju ove bilježnice na svoj Colab profil i tamo riješite vježbu. Ne zaboravite uključiti GPU akceleraciju (Runtime->Change runtime type->GPU->Save). \\\n",
        "\n",
        "U slučaju nejasnoća javite se na anja.delic@fer.hr."
      ],
      "metadata": {
        "id": "uhIzBADQDNCB"
      }
    },
    {
      "cell_type": "markdown",
      "source": [
        "# 4. Laboratorijska vježba - generativno modeliranje"
      ],
      "metadata": {
        "id": "vKtPXFrnpYzC"
      }
    },
    {
      "cell_type": "markdown",
      "source": [
        "Jedan od glavnih katalizatora u razvoju modernog računalnog vida jest dostupnost velikih skupova podataka. Iako su skupovi podataka lako dostupni, proces koji generira podatke je često nepoznat. Cilj ove laboratorijske vježbe jest pokušati aproksimirati proces koji generira dani skup podataka.\n"
      ],
      "metadata": {
        "id": "uzIreOYS7B8T"
      }
    },
    {
      "cell_type": "markdown",
      "source": [
        "## Teorijska podloga generativnom modeliranju"
      ],
      "metadata": {
        "id": "kcPMUvv3E1pL"
      }
    },
    {
      "cell_type": "markdown",
      "source": [
        "Krenuti ćemo od bolje definicije zadatka.\n",
        "Pretpostavimo postojanje skupa podataka $D=\\{\\mathbf{x}_i\\}_{i=1}^N$ koji je nastao uzorkovanjem nepoznate distribucije $P_D(\\underline{\\mathbf{x}})$. Nadalje, pretpostavimo da je svaki primjer $\\mathbf{x}_i$ dobiven nezavisnim uzorkovanjem. Naš cilj je aproksimirati nepoznatu distribuciju podataka $P_D(\\underline{\\mathbf{x}})$ poznatim modelom $P_\\theta(\\underline{\\mathbf{x}})$.\n",
        "S obzirom da su naši podaci često u kontinuirani ($\\underline{\\mathbf{x}}$ je kontinuirana slučajna varijabla) baviti ćemo se modeliranjem gustoća vjerojatnosti $p_D(\\underline{\\mathbf{x}})$ i $p_\\theta(\\underline{\\mathbf{x}})$."
      ],
      "metadata": {
        "id": "f9YQxQbbEz7w"
      }
    },
    {
      "cell_type": "markdown",
      "source": [
        "**Problem 1.:** Kako poravnati nepoznati $p_D(\\underline{\\mathbf{x}})$ i poznati $p_\\theta(\\underline{\\mathbf{x}})$?\n",
        "\n"
      ],
      "metadata": {
        "id": "HHwh1wyJASSH"
      }
    },
    {
      "cell_type": "markdown",
      "source": [
        "U teoriji vjerojatnosti, različitost između dvije distribucije $P(\\underline{x})$ i $Q(\\underline{x})$ se mjeri pomoću f-divergencije. Jedna od najčešćih mjera iz obitelji f-divergencija je KL-divergencija. KL-divergenciju za kontinuirane slučajne varijable definiramo kao:\n",
        "$$\n",
        "\\mathrm{KL}(P, Q) = \\int_{-\\infty}^{+\\infty} p(x) \\ln\\frac{p(x)}{q(x)} dx.\n",
        "$$\n",
        "$p$ i $q$ su pripadajuće gustoće vjerojatnosti."
      ],
      "metadata": {
        "id": "G9Sv47JgCUS-"
      }
    },
    {
      "cell_type": "markdown",
      "source": [
        "KL-divergencije između distribucije podataka i distribucije modela je primamljiv gubitak za naš optimizacijski postupak. Može se pokazati da je minimizacija KL divergencije između distribucije podataka i distribucije modela ekvivalentna minimizaciji negativne log-izglednosti skupa podataka za učenje:\n",
        "$$\n",
        "\\underset{\\theta}{\\mathrm{min}} \\, \\mathrm{KL}(p_D, p_\\theta) \\simeq \\underset{\\theta}{\\mathrm{min}} \\, -\\mathbb{E}_{\\mathbf{x} \\in D} \\;\\;  [\\ln p_\\theta(\\mathbf{x})]\n",
        "$$"
      ],
      "metadata": {
        "id": "ryOKIYqGGd1d"
      }
    },
    {
      "cell_type": "markdown",
      "source": [
        "**Zadatak 1.**: Dokažite navedenu tvrdnju."
      ],
      "metadata": {
        "id": "Y5YX-JnVJ1q9"
      }
    },
    {
      "cell_type": "markdown",
      "source": [
        "Dokaz:\n",
        "$$\n",
        "\\, \\mathrm{KL}(p_D, p_\\theta) =   \\int_{-\\infty}^{+\\infty} p_D(x) \\ln\\frac{p_D(x)}{p_\\theta(x)} dx\n",
        "$$\n",
        "$$\n",
        "\\, \\mathrm{KL}(p_D, p_\\theta) =  \\int_{-\\infty}^{+\\infty} p_D(x) \\ln p_D(x) dx - \\int_{-\\infty}^{+\\infty} p_D(x) \\ln p_\\theta(x) dx .\n",
        "$$\n",
        "$$\n",
        "\\, \\mathrm{KL}(p_D, p_\\theta) =  H(p_D) - E(\\ln p_\\theta(x) dx)\n",
        "$$\n",
        "$$\n",
        "\\underset{\\theta}{\\mathrm{min}} \\, \\mathrm{KL}(p_D, p_\\theta)  = \\underset{\\theta}{\\mathrm{min}} \\, ( \\int_{-\\infty}^{+\\infty} p_D(x) \\ln p_D(x) dx - \\int_{-\\infty}^{+\\infty} p_D(x) \\ln p_\\theta(x) dx )\n",
        "$$\n",
        "$$\n",
        "\\underset{\\theta}{\\mathrm{min}} \\, \\mathrm{KL}(p_D, p_\\theta) =  \\underset{\\theta}{\\mathrm{min}} \\, (H(p_D) - E(\\ln p_\\theta(x) dx))\n",
        "$$\n",
        "A kako je entropija od p konstanta, minimum degradira samo u drugi član :\n",
        "$$\n",
        "\\underset{\\theta}{\\mathrm{min}} \\, \\mathrm{KL}(p_D, p_\\theta) =  \\underset{\\theta}{\\mathrm{min}} \\, (- E(\\ln p_\\theta(x) dx))\n",
        "$$"
      ],
      "metadata": {
        "id": "wAe65zwZKScr"
      }
    },
    {
      "cell_type": "markdown",
      "source": [
        "**Problem 2.**: Definicija modela $p_\\theta$."
      ],
      "metadata": {
        "id": "mcltA0gCk94E"
      }
    },
    {
      "cell_type": "markdown",
      "source": [
        "Naš sljedeći korak je definirati model $p_\\theta$. Upravo po definiciji  $p_\\theta$ razlikujemo različite generativne modele.\n",
        "Na primjer autoregresivna faktorizacija modela dovodi do autoregresijskih modela, dok modeliranje nenormalizirane distribucije dovodi do energijskih modela. U ovoj vježbi se fokusiramo  na vrstu generativnih modela koje nazivamo normalizirajući tokovi. Normalizirajući tok $p_\\theta$ definiramo pomoću formule za zamjenu varijabli distribucije.\n",
        "\n",
        "Pretpostavimo da su $\\underline{\\mathbf{x}}$ i $\\underline{\\mathbf{z}}$ dvije kontinuirane slučajne varijable. Pretpostavimo da bijekcija $f$ mapira realizacije slučajne varijable $\\underline{\\mathbf{x}}$ u realizacije od $\\underline{\\mathbf{z}}$, to jest $\\mathbf{z} = f(\\mathbf{x})$. S obzirom da je $f$ bijekcija vrijedi i obrat $\\mathbf{x} = f^{-1}(\\mathbf{z})$. Formulu za zamjenu varijabi distribucije definiramo kao:\n",
        "$$\n",
        " p(\\mathbf{x}) = q(\\mathbf{z}) \\left| \\mathrm{det} \\frac{\\partial \\mathbf{z}}{ \\partial \\mathbf{x}} \\right|, \\quad \\mathbf{z} = f(\\mathbf{x})\n",
        "$$\n",
        "$\\frac{∂ \\mathbf{z}}{ ∂ \\mathbf{x}}$ predstavlja Jakobijan funkcije $f$ za $\\textbf{x}$. det predstavlja determinantu. $|\\cdot|$ predstavlja apsolutnu vrijednost.\n",
        "To jest, drugi član umnoška odgovara apsolutnoj vrijednosti determinante Jakobijana transformacije $f$."
      ],
      "metadata": {
        "id": "-QTBdTnEMnk2"
      }
    },
    {
      "cell_type": "markdown",
      "source": [
        "Formulu za zamjenu varijabli ćemo iskoristiti za izgradnju okvira koji nam omogućava implementaciju dubokog generativnog modela.\n",
        "Ideja je jednostavna, distribuciju $q(\\mathbf{z})$ možemo predefinirati (npr. kao Gaussovu distribuciju). Tada nam je jedina nepoznanica bijekcija $f$ koju možemo parametrizirati s $\\theta$ te naučiti optimizacijskim postupkom.\n"
      ],
      "metadata": {
        "id": "Q1WEnc3ZarRI"
      }
    },
    {
      "cell_type": "markdown",
      "source": [
        "Prisjetimo se sljedećih teorema:\n",
        "1. kompozicija bijekcija je bijekcija, tj $f$ možemo raspisati kao $f = f_1 ∘ f_2 ∘ f_3 ∘ \\dots \\circ f_K$.\n",
        "2. pravilo ulančavanja: $\\frac{∂ z_3}{ ∂ z_1} = \\frac{∂ z_3}{ ∂ z_2}\\frac{∂ z_2}{ ∂ z_1} $\n",
        "3. determinanta umnoška dviju kvadratnih matrica istog reda jednaka je umnošku determinanti svake matrice (Binet-Cauchyjev teorem)\n",
        "4. Apsolutna vrijednost umnoška dva realna broja je jednaka umnošku apsolutnih vrijednosti: $|a\\cdot b| = |a|\\cdot |b|$\n",
        "\n",
        "Bijekciju $f$ možemo promatrati kao kompoziciju funkcija, gdje svaka funkcija $f_i$ prima varijablu $z_{i-1}$ i računa varijablu $z_i$.\n",
        "Ako uzmemo u obzir prethodno spomenute teoreme, dolazimo do sljedeće formulacije:\n",
        "$$\n",
        " p_\\theta (\\mathbf{x}) = q(\\mathbf{z}_K) \\prod_{k=1}^K \\left| \\mathrm{det} \\frac{\\partial \\mathbf{z}_{k} }{ \\partial \\mathbf{z}_{k-1}} \\right|, \\quad \\mathbf{z}_{k} = f_{\\theta_k}(\\mathbf{z}_{k-1}),\n",
        "$$\n",
        "gdje je $\\mathbf{z}_{0} = \\mathbf{x}$.\n",
        "$q(\\mathbf{z}_K)$ može biti proizvoljna distribucija pa je definiramo kao $q(\\mathbf{z}_K):= \\mathcal{N}(\\mathbf{z}_K; 0, \\mathrm{I})$."
      ],
      "metadata": {
        "id": "OjcJuvHaQOBV"
      }
    },
    {
      "cell_type": "markdown",
      "source": [
        "**Zadatak 2.** Krenuvši od općenite formule za zamjenu varijabli izvedite izraz za normalizirajući tok."
      ],
      "metadata": {
        "id": "BVx7UqIZh19J"
      }
    },
    {
      "cell_type": "markdown",
      "source": [
        "Izvod:\n",
        "$$\n",
        "p(\\mathbf{x}) = q(\\mathbf{z}_K) \\left| \\mathrm{det} \\frac{\\partial f(\\mathbf{x})}{ \\partial \\mathbf{x}} \\right|\n",
        "$$\n",
        "$$\n",
        "| z = f(x) , \\partial f(\\mathbf{x}) =\\partial z |\n",
        "$$\n",
        "$$\n",
        "= q(\\mathbf{z}_K) | \\mathrm{det} \\frac{\\partial \\mathbf{z}_{k} }{ \\partial \\mathbf{z}_{k-1}}| | \\mathrm{det} \\frac{\\partial \\mathbf{z}_{k-1} }{ \\partial \\mathbf{z}_{k-2}}| | \\mathrm{det} \\frac{\\partial \\mathbf{z}_{k-2} }{ \\partial \\mathbf{z}_{k-3}}| ... | \\mathrm{det} \\frac{\\partial \\mathbf{z}_{1} }{ \\partial \\mathbf{x}}|\n",
        "$$\n",
        "$$\n",
        "= q(\\mathbf{z}_K) \\prod_{k=1}^K \\left| \\mathrm{det} \\frac{\\partial \\mathbf{z}_{k} }{ \\partial \\mathbf{z}_{k-1}} \\right|\n",
        "$$\n",
        "$$\n",
        "| z = f(x) , \\mathbf{x} = f^{-1}(\\mathbf{z})|\n",
        "$$\n",
        "$$\n",
        "= q(\\mathbf{z}) \\left| \\mathrm{det} \\frac{\\partial f^{-1}(\\mathbf{x})}{ \\partial \\mathbf{x}} \\right|\n",
        "$$\n",
        "$$\n",
        "= q(\\mathbf{ f^{-1}(x) }) \\left| \\mathrm{det} \\frac{\\partial f^{-1}(\\mathbf{x})}{ \\partial \\mathbf{x}} \\right|\n",
        "$$"
      ],
      "metadata": {
        "id": "QcG4_w3XiVxC"
      }
    },
    {
      "cell_type": "markdown",
      "source": [
        "Spomenimo još da nas općenito zanima logaritam gustoće vjerojatnosti pa pišemo:\n",
        "$$\n",
        " \\ln p_\\theta (\\mathbf{x}) = \\ln q(\\mathbf{z}_K) +\\sum_{k=1}^K \\ln \\left| \\mathrm{det} \\frac{\\partial \\mathbf{z}_{k} }{ \\partial \\mathbf{z}_{k-1}} \\right|, \\quad \\mathbf{z}_{k} = f_{\\theta_k}(\\mathbf{z}_{k-1}), \\tag{1}\n",
        "$$"
      ],
      "metadata": {
        "id": "GzQTQ_1pBBcF"
      }
    },
    {
      "cell_type": "markdown",
      "source": [
        "Ostala nam je još jedna nepoznanica, a to je dizajn funkcija $f_k$,  $k=1,...,K$.\n",
        "Dizajn funkcije f ovisi o podacima koje modeliramo. Razmislite kako biste bijekciju modelirali kao gradivni blok dubokog modela."
      ],
      "metadata": {
        "id": "N9gRzeKonoKN"
      }
    },
    {
      "cell_type": "markdown",
      "source": [
        "## Modeliranje 2D skupa podataka normalizirajućim tokom"
      ],
      "metadata": {
        "id": "2LJNZ2ez-138"
      }
    },
    {
      "cell_type": "markdown",
      "source": [
        "**Problem 3.** Modeliranje 2D skupa podatka."
      ],
      "metadata": {
        "id": "8pnaIDgmlMKu"
      }
    },
    {
      "cell_type": "code",
      "execution_count": 200,
      "metadata": {
        "id": "E8oosfEPpUaR"
      },
      "outputs": [],
      "source": [
        "import torch\n",
        "import random\n",
        "import numpy as np\n",
        "import torch.nn as nn\n",
        "\n",
        "np.random.seed(0)\n",
        "random.seed(0)\n",
        "torch.manual_seed(0)\n",
        "\n",
        "import matplotlib.pyplot as plt"
      ]
    },
    {
      "cell_type": "code",
      "source": [
        "class GaussianMixture2DDataset:\n",
        "    def __init__(self, num_samples, n_comp=2, loc=torch.zeros(2,2), scale=torch.ones(2,2), pi=(torch.ones(2)/2)):\n",
        "        samples_per_component = (pi * num_samples).long()\n",
        "        self.samples = torch.cat([torch.randn(samples_per_component[i],2) * scale[i] + loc[i] for i in range(n_comp)], 0)\n",
        "\n",
        "    def __getitem__(self, idx):\n",
        "        return self.samples[idx]"
      ],
      "metadata": {
        "id": "FPjc6n7sqLIn"
      },
      "execution_count": 201,
      "outputs": []
    },
    {
      "cell_type": "markdown",
      "source": [
        "Promotrimo sljedeći skup podataka. Pretpostavimo da nam je dostupan samo skup podataka $D$. Cilj nam je aproksimirati distribuciju podataka $p_D$ pomoću normalizirajućeg toka."
      ],
      "metadata": {
        "id": "qrDsz9ajlmYb"
      }
    },
    {
      "cell_type": "code",
      "source": [
        "D = GaussianMixture2DDataset(9999, loc=torch.tensor([[-1, -1], [1,1]]), scale=torch.tensor([[0.5, 0.5], [0.5,0.5]])).samples\n",
        "plt.scatter(D[:, 0], D[:, 1], 1)\n",
        "plt.show()"
      ],
      "metadata": {
        "id": "SdbqYcV0sOZK",
        "colab": {
          "base_uri": "https://localhost:8080/",
          "height": 434
        },
        "outputId": "369c8354-a4c0-44dc-90e5-dd72f79cef1f"
      },
      "execution_count": 202,
      "outputs": [
        {
          "output_type": "display_data",
          "data": {
            "text/plain": [
              "<Figure size 640x480 with 1 Axes>"
            ],
            "image/png": "[encoded data removed]"
          },
          "metadata": {}
        }
      ]
    },
    {
      "cell_type": "code",
      "source": [
        "D.shape"
      ],
      "metadata": {
        "colab": {
          "base_uri": "https://localhost:8080/"
        },
        "id": "VNgJ5_bkEvIu",
        "outputId": "351d1152-17cc-4b9a-963b-cfcf2d411ca4"
      },
      "execution_count": 203,
      "outputs": [
        {
          "output_type": "execute_result",
          "data": {
            "text/plain": [
              "torch.Size([9998, 2])"
            ]
          },
          "metadata": {},
          "execution_count": 203
        }
      ]
    },
    {
      "cell_type": "markdown",
      "source": [
        "S obzirom da modeliramo 2D skup podatka, zanimaju nas funkcije s domenom $\\mathbb{R}^2$ i kodomenom $\\mathbb{R}^2$ koje imaju inverz.\n",
        "Definiramo sljedeći implementacijski ovir:"
      ],
      "metadata": {
        "id": "e6UCmiYqoTxf"
      }
    },
    {
      "cell_type": "markdown",
      "source": [
        "$$\n",
        "\\ln p_\\theta (\\mathbf{x})  = q(\\mathbf{ f^{-1}(x) }) \\left| \\mathrm{det} \\frac{\\partial f^{-1}(\\mathbf{x})}{ \\partial \\mathbf{x}} \\right|\n",
        "$$"
      ],
      "metadata": {
        "id": "XXBi5lSII-Q1"
      }
    },
    {
      "cell_type": "code",
      "source": [
        "from abc import ABC, abstractmethod\n",
        "class _Bijection(nn.Module, ABC):\n",
        "    def __init__(self):\n",
        "        super(_Bijection, self).__init__()\n",
        "    @abstractmethod\n",
        "    def forward(self, x):\n",
        "        pass\n",
        "    @abstractmethod\n",
        "    def inverse(self, z):\n",
        "        pass"
      ],
      "metadata": {
        "id": "oB_3FyfGsfmF"
      },
      "execution_count": 204,
      "outputs": []
    },
    {
      "cell_type": "markdown",
      "source": [
        "Funkcija `forward` implementira unaprijedni prolaz kroz sloj i na izlazu vraća transformirani ulaz i logaritam apsolutne vrijednosti determinante Jakobijana funkcije. \\\n",
        "Funkcija `inverse` implementira inverzni probalz kroz sloj i na izlazu vraća transformirani ulaz."
      ],
      "metadata": {
        "id": "NLaq4kuYrv21"
      }
    },
    {
      "cell_type": "markdown",
      "source": [
        "**Zadatak 3.**: Pokušajmo ponuditi bijektivnu alternativu sloju torch.nn.Linear za dvodimenzionalne podatke. Obratite pozornost na to da je transformaciju potrebno održavati invertibilnom regularizacijskim članom.\n",
        "Nadopunite forward i inverse funkciju.\n",
        "\n",
        "Uputa: Linearna transformacija se primjenjuje na svaki primjer u minigrupi nezavisno. Zbog malene dimenzionalnosti, invertiranje i računanje determinante Jakobijana možemo izvesti grubom silom, izravnim pozivom odgovarajućih funkcija torcha."
      ],
      "metadata": {
        "id": "VIFMGWxqri3u"
      }
    },
    {
      "cell_type": "code",
      "source": [
        "from torch import Tensor\n",
        "from torch.nn import functional as F\n",
        "from torch.autograd.functional import jacobian\n",
        "from typing import Any, Union\n",
        "\n",
        "def sum_except_batch(x, num_dims=1):\n",
        "    return x.reshape(*x.shape[:num_dims], -1).sum(-1)\n",
        "\n",
        "class BijectiveLinear2D(_Bijection):\n",
        "    def __init__(self, dim):\n",
        "        super(_Bijection, self).__init__()\n",
        "        self.dim = dim\n",
        "        self.weight = nn.Parameter(torch.eye(dim))\n",
        "        self.bias = nn.Parameter(torch.zeros(1, dim))\n",
        "\n",
        "    def linear(self, x):\n",
        "        return F.linear(x, self.weight, self.bias)\n",
        "\n",
        "    def forward(self, x: Tensor) -> Union[Tensor, float]:  # x has shape NxD\n",
        "        \"\"\"Forward pass, returns transformed input and log absolute value of determinant of Jacobian of the function.\"\"\"\n",
        "        z = self.linear(x) # NxD\n",
        "        # jac = jacobian(func = self.linear, inputs = x)\n",
        "        # log_abs_det = np.log(np.abs((jac[0,0] * jac[1,1] - jac[0,1] * jac[1,0]).detach().numpy()))\n",
        "        log_abs_det = torch.log(torch.abs(torch.det(self.weight)))\n",
        "        return z, log_abs_det # shapes NxD, N\n",
        "\n",
        "    def inverse(self, z : Tensor) -> Tensor:\n",
        "        x = F.linear(input = z, weight = torch.inverse(self.weight), bias = - torch.matmul(self.bias, torch.inverse(self.weight)))\n",
        "        return x    # NxD\n",
        "\n",
        "    def regularization(self):\n",
        "        return ((self.weight @ self.weight) - torch.eye(self.dim)).abs().sum()\n",
        "\n",
        "\n"
      ],
      "metadata": {
        "id": "lS9FtpcPqVpJ"
      },
      "execution_count": 205,
      "outputs": []
    },
    {
      "cell_type": "markdown",
      "source": [
        "**Zadatak 4.**: Nadopunjavanje izvedbe osnovnog razreda `NormalizingFlow`.\n",
        "\n",
        "Proučite predloženu nepotpunu izvedbu razreda `NormalizingFlow`. Obratite pozornost na to da konstruktor razreda prima argument `transforms` koji mora biti tipa [torch.nn.Sequential](https://pytorch.org/docs/stable/generated/torch.nn.Sequential.html) kako bismo kroz taj objekt mogli iterirati pri unaprijednom i inverznom prolazu. Iteraciju ćemo provoditi `for` petljom i tako prolaziti kroz slojeve normalizirajućeg toka. Predložite potpunu izvedbu razreda `NormalizingFlow` pod pretpostavkom da svi elementi slijednog modela `transforms` nasljeđuju prethodno definirano sučelje `_Bijection`. Vaše rješenje može dodavati nove lokalne metode razredu `NormalizingFlow`.\n",
        "\n"
      ],
      "metadata": {
        "id": "8aKtTZhIr7tN"
      }
    },
    {
      "cell_type": "code",
      "source": [
        "from typing import Tuple\n",
        "\n",
        "class NormalizingFlow(nn.Module):\n",
        "    \"\"\"\n",
        "    Base class for normalizing flow.\n",
        "    \"\"\"\n",
        "\n",
        "    def __init__(self, transforms : nn.ModuleList, input_dim : Tuple):\n",
        "        super(NormalizingFlow, self).__init__()\n",
        "        self.transforms = transforms\n",
        "\n",
        "        self.register_buffer('loc', torch.zeros(input_dim))\n",
        "        self.register_buffer('log_scale', torch.zeros(input_dim))\n",
        "        self.base_dist = torch.distributions.Normal(self.loc, torch.exp(self.log_scale))\n",
        "\n",
        "    def forward(self, x):\n",
        "        \"\"\"Transforms the input sample to the latent representation z.\n",
        "\n",
        "        Args:\n",
        "            x (torch.Tensor): input sample\n",
        "\n",
        "        Returns:\n",
        "            torch.Tensor: latent representation of the input sample\n",
        "        \"\"\"\n",
        "        total_log_abs_det, z = 1, x\n",
        "        z = x\n",
        "        for transform in self.transforms:\n",
        "            z, log_abs_det = transform.forward(z)\n",
        "            total_log_abs_det += log_abs_det\n",
        "        return z,total_log_abs_det\n",
        "\n",
        "    def inverse(self, z):\n",
        "        \"\"\"Transforms the latent representation z back to the input space.\n",
        "\n",
        "        Args:\n",
        "            z (torch.Tensor): latent representation\n",
        "\n",
        "        Returns:\n",
        "            torch.Tensor: representation in the input space\n",
        "        \"\"\"\n",
        "        x = z\n",
        "        for transform in reversed(self.transforms):\n",
        "            x = transform.inverse(x)\n",
        "        return x\n",
        "\n",
        "    def log_prob(self, x):\n",
        "        \"\"\"Calculates the log-likelihood of the given sample x (see equation (1)).\n",
        "\n",
        "        Args:\n",
        "            x (torch.Tensor): input\n",
        "\n",
        "        Returns:\n",
        "            torch.Tensor: log-likelihood of x\n",
        "        \"\"\"\n",
        "        z,log_abs_det = self.forward(x)\n",
        "        log_pz = self.base_dist.log_prob(z).sum(dim=1)\n",
        "        log_px =  log_pz + log_abs_det\n",
        "        return log_px\n",
        "\n",
        "    def sample(self, num_samples : int , T : float = 1):\n",
        "        \"\"\"Generates new samples from the normalizing flow.\n",
        "\n",
        "        Args:\n",
        "            num_samples (int): number of samples to generate\n",
        "            T (float, optional): sampling temperature. Defaults to 1.\n",
        "\n",
        "        Returns:\n",
        "            torch.Tensor: generated samples\n",
        "        \"\"\"\n",
        "        z = self.base_dist.sample(torch.Size([num_samples])) * T\n",
        "        x = self.inverse(z)\n",
        "        return x"
      ],
      "metadata": {
        "id": "SNBd58SdJBkn"
      },
      "execution_count": 206,
      "outputs": []
    },
    {
      "cell_type": "markdown",
      "source": [
        "U jednostavnom slučaju, transformaciju normalizirajućeg toka možemo definirati kao slijed linearnih transformacija:"
      ],
      "metadata": {
        "id": "K4jw_hqiZDVI"
      }
    },
    {
      "cell_type": "code",
      "source": [
        "class SimpleNF(NormalizingFlow):\n",
        "    def __init__(self, input_dim, num_steps=2):\n",
        "        transforms = nn.Sequential()\n",
        "        for _ in range(num_steps):\n",
        "            transforms.append(BijectiveLinear2D(input_dim))\n",
        "\n",
        "        super(SimpleNF, self).__init__(transforms=transforms, input_dim=input_dim)\n",
        "\n",
        "    def gather_regularization(self):\n",
        "        return sum([m.regularization() for m in self.transforms])"
      ],
      "metadata": {
        "id": "GPTAAO6kr6ei"
      },
      "execution_count": 207,
      "outputs": []
    },
    {
      "cell_type": "markdown",
      "source": [
        "Provjerite svoju implementaciju inverza sljedećim kodom:"
      ],
      "metadata": {
        "id": "2S76bp33sZxD"
      }
    },
    {
      "cell_type": "code",
      "source": [
        "flow = SimpleNF(2, num_steps=7)\n",
        "diff = (flow.inverse(flow(D)[0]) - D).sum().item()\n",
        "assert diff < 1e-9"
      ],
      "metadata": {
        "id": "9_YbUH-erqEx",
        "collapsed": true
      },
      "execution_count": 208,
      "outputs": []
    },
    {
      "cell_type": "markdown",
      "source": [
        "Tok učimo optmizacijom prethodno objašnjenog gubitka."
      ],
      "metadata": {
        "id": "yw1rECQCsgrd"
      }
    },
    {
      "cell_type": "code",
      "source": [
        "flow = SimpleNF(2, num_steps=7)\n",
        "optim = torch.optim.SGD(flow.parameters(), lr=1e-1)\n",
        "\n",
        "for iter in range(4000):\n",
        "    optim.zero_grad()\n",
        "    log_px = flow.log_prob(D)\n",
        "    loss = - (log_px).mean()\n",
        "    loss_reg = flow.gather_regularization()\n",
        "    total_loss = loss + 0.001 * loss_reg\n",
        "    total_loss.backward()\n",
        "    optim.step()\n",
        "    if iter % 20 == 0:\n",
        "        print(f\"Iter {iter+1}: Loss:{loss.item()} Reg:{loss_reg.item()}\")"
      ],
      "metadata": {
        "id": "m6VldF_vw8tu",
        "colab": {
          "base_uri": "https://localhost:8080/"
        },
        "outputId": "b2696ecd-4411-4e13-e065-f0fbbafb99a1"
      },
      "execution_count": 209,
      "outputs": [
        {
          "output_type": "stream",
          "name": "stdout",
          "text": [
            "Iter 1: Loss:2.0862061977386475 Reg:0.0\n",
            "Iter 21: Loss:1.546636939048767 Reg:3.0696544647216797\n",
            "Iter 41: Loss:1.5848177671432495 Reg:3.0756630897521973\n",
            "Iter 61: Loss:1.5498133897781372 Reg:3.1959073543548584\n",
            "Iter 81: Loss:1.5468816757202148 Reg:3.202249526977539\n",
            "Iter 101: Loss:1.5466557741165161 Reg:3.1990180015563965\n",
            "Iter 121: Loss:1.546635627746582 Reg:3.1951687335968018\n",
            "Iter 141: Loss:1.5466331243515015 Reg:3.1913671493530273\n",
            "Iter 161: Loss:1.546633005142212 Reg:3.1876730918884277\n",
            "Iter 181: Loss:1.5466327667236328 Reg:3.1840875148773193\n",
            "Iter 201: Loss:1.546633005142212 Reg:3.1806094646453857\n",
            "Iter 221: Loss:1.5466327667236328 Reg:3.1772360801696777\n",
            "Iter 241: Loss:1.546633005142212 Reg:3.1739625930786133\n",
            "Iter 261: Loss:1.5466328859329224 Reg:3.170787811279297\n",
            "Iter 281: Loss:1.546633005142212 Reg:3.1677074432373047\n",
            "Iter 301: Loss:1.5466325283050537 Reg:3.1647188663482666\n",
            "Iter 321: Loss:1.546633243560791 Reg:3.1618213653564453\n",
            "Iter 341: Loss:1.5466326475143433 Reg:3.1590094566345215\n",
            "Iter 361: Loss:1.5466325283050537 Reg:3.156283140182495\n",
            "Iter 381: Loss:1.5466328859329224 Reg:3.1536381244659424\n",
            "Iter 401: Loss:1.546633005142212 Reg:3.1510729789733887\n",
            "Iter 421: Loss:1.5466328859329224 Reg:3.1485846042633057\n",
            "Iter 441: Loss:1.546633005142212 Reg:3.1461703777313232\n",
            "Iter 461: Loss:1.546633005142212 Reg:3.1438300609588623\n",
            "Iter 481: Loss:1.5466328859329224 Reg:3.1415600776672363\n",
            "Iter 501: Loss:1.546633005142212 Reg:3.1393587589263916\n",
            "Iter 521: Loss:1.546633005142212 Reg:3.137223720550537\n",
            "Iter 541: Loss:1.546633005142212 Reg:3.135153293609619\n",
            "Iter 561: Loss:1.5466328859329224 Reg:3.133145332336426\n",
            "Iter 581: Loss:1.5466328859329224 Reg:3.131197690963745\n",
            "Iter 601: Loss:1.5466326475143433 Reg:3.1293082237243652\n",
            "Iter 621: Loss:1.5466336011886597 Reg:3.127476692199707\n",
            "Iter 641: Loss:1.5466362237930298 Reg:3.1256942749023438\n",
            "Iter 661: Loss:1.5466581583023071 Reg:3.1239326000213623\n",
            "Iter 681: Loss:1.5468460321426392 Reg:3.1219594478607178\n",
            "Iter 701: Loss:1.54849112033844 Reg:3.1177940368652344\n",
            "Iter 721: Loss:1.5559476613998413 Reg:3.106605291366577\n",
            "Iter 741: Loss:1.554392695426941 Reg:3.1242282390594482\n",
            "Iter 761: Loss:1.5488131046295166 Reg:3.144259452819824\n",
            "Iter 781: Loss:1.547157645225525 Reg:3.148231029510498\n",
            "Iter 801: Loss:1.5467692613601685 Reg:3.1473326683044434\n",
            "Iter 821: Loss:1.5466734170913696 Reg:3.1453499794006348\n",
            "Iter 841: Loss:1.5466467142105103 Reg:3.1431539058685303\n",
            "Iter 861: Loss:1.5466386079788208 Reg:3.140947103500366\n",
            "Iter 881: Loss:1.546635627746582 Reg:3.1387827396392822\n",
            "Iter 901: Loss:1.5466340780258179 Reg:3.136676549911499\n",
            "Iter 921: Loss:1.5466339588165283 Reg:3.134629249572754\n",
            "Iter 941: Loss:1.5466336011886597 Reg:3.1326420307159424\n",
            "Iter 961: Loss:1.5466333627700806 Reg:3.130713939666748\n",
            "Iter 981: Loss:1.5466333627700806 Reg:3.1288418769836426\n",
            "Iter 1001: Loss:1.5466334819793701 Reg:3.127028703689575\n",
            "Iter 1021: Loss:1.5466334819793701 Reg:3.1252670288085938\n",
            "Iter 1041: Loss:1.5466333627700806 Reg:3.123560905456543\n",
            "Iter 1061: Loss:1.5466337203979492 Reg:3.1219046115875244\n",
            "Iter 1081: Loss:1.546634554862976 Reg:3.1202969551086426\n",
            "Iter 1101: Loss:1.5466357469558716 Reg:3.118736743927002\n",
            "Iter 1121: Loss:1.5466386079788208 Reg:3.117219924926758\n",
            "Iter 1141: Loss:1.5466479063034058 Reg:3.1157398223876953\n",
            "Iter 1161: Loss:1.5466735363006592 Reg:3.114278793334961\n",
            "Iter 1181: Loss:1.5467560291290283 Reg:3.112780809402466\n",
            "Iter 1201: Loss:1.5470385551452637 Reg:3.1110548973083496\n",
            "Iter 1221: Loss:1.5479685068130493 Reg:3.1085660457611084\n",
            "Iter 1241: Loss:1.5500842332839966 Reg:3.105314254760742\n",
            "Iter 1261: Loss:1.551289677619934 Reg:3.106943130493164\n",
            "Iter 1281: Loss:1.549662709236145 Reg:3.1153082847595215\n",
            "Iter 1301: Loss:1.5479899644851685 Reg:3.12119197845459\n",
            "Iter 1321: Loss:1.547190546989441 Reg:3.122990369796753\n",
            "Iter 1341: Loss:1.5468710660934448 Reg:3.12274169921875\n",
            "Iter 1361: Loss:1.5467438697814941 Reg:3.1216981410980225\n",
            "Iter 1381: Loss:1.5466904640197754 Reg:3.1203653812408447\n",
            "Iter 1401: Loss:1.5466662645339966 Reg:3.1189403533935547\n",
            "Iter 1421: Loss:1.5466547012329102 Reg:3.1174967288970947\n",
            "Iter 1441: Loss:1.5466485023498535 Reg:3.1160659790039062\n",
            "Iter 1461: Loss:1.5466458797454834 Reg:3.1146628856658936\n",
            "Iter 1481: Loss:1.5466448068618774 Reg:3.1132922172546387\n",
            "Iter 1501: Loss:1.5466448068618774 Reg:3.1119577884674072\n",
            "Iter 1521: Loss:1.5466465950012207 Reg:3.1106584072113037\n",
            "Iter 1541: Loss:1.5466504096984863 Reg:3.1093926429748535\n",
            "Iter 1561: Loss:1.5466578006744385 Reg:3.108158588409424\n",
            "Iter 1581: Loss:1.5466713905334473 Reg:3.1069509983062744\n",
            "Iter 1601: Loss:1.546715259552002 Reg:3.10601544380188\n",
            "Iter 1621: Loss:1.5468347072601318 Reg:3.10568904876709\n",
            "Iter 1641: Loss:1.5471937656402588 Reg:3.104788064956665\n",
            "Iter 1661: Loss:1.5478535890579224 Reg:3.104788303375244\n",
            "Iter 1681: Loss:1.5484968423843384 Reg:3.1046457290649414\n",
            "Iter 1701: Loss:1.5485693216323853 Reg:3.106123447418213\n",
            "Iter 1721: Loss:1.5481371879577637 Reg:3.108306407928467\n",
            "Iter 1741: Loss:1.5476348400115967 Reg:3.110013246536255\n",
            "Iter 1761: Loss:1.5472617149353027 Reg:3.1107852458953857\n",
            "Iter 1781: Loss:1.5470292568206787 Reg:3.1107850074768066\n",
            "Iter 1801: Loss:1.54689359664917 Reg:3.110295295715332\n",
            "Iter 1821: Loss:1.5468162298202515 Reg:3.1095287799835205\n",
            "Iter 1841: Loss:1.5467720031738281 Reg:3.1086151599884033\n",
            "Iter 1861: Loss:1.5467561483383179 Reg:3.1077635288238525\n",
            "Iter 1881: Loss:1.5467861890792847 Reg:3.1083803176879883\n",
            "Iter 1901: Loss:1.5468157529830933 Reg:3.106985569000244\n",
            "Iter 1921: Loss:1.546876311302185 Reg:3.107546091079712\n",
            "Iter 1941: Loss:1.5469239950180054 Reg:3.106294631958008\n",
            "Iter 1961: Loss:1.5469931364059448 Reg:3.1070823669433594\n",
            "Iter 1981: Loss:1.5470551252365112 Reg:3.105844259262085\n",
            "Iter 2001: Loss:1.5471141338348389 Reg:3.1056573390960693\n",
            "Iter 2021: Loss:1.5471675395965576 Reg:3.105581283569336\n",
            "Iter 2041: Loss:1.5472086668014526 Reg:3.1055870056152344\n",
            "Iter 2061: Loss:1.5472139120101929 Reg:3.105618953704834\n",
            "Iter 2081: Loss:1.5471848249435425 Reg:3.105525016784668\n",
            "Iter 2101: Loss:1.5471872091293335 Reg:3.1055104732513428\n",
            "Iter 2121: Loss:1.547142744064331 Reg:3.1055479049682617\n",
            "Iter 2141: Loss:1.5471161603927612 Reg:3.1055638790130615\n",
            "Iter 2161: Loss:1.5470727682113647 Reg:3.105398654937744\n",
            "Iter 2181: Loss:1.547067642211914 Reg:3.1053690910339355\n",
            "Iter 2201: Loss:1.5470472574234009 Reg:3.1062560081481934\n",
            "Iter 2221: Loss:1.547033667564392 Reg:3.104914903640747\n",
            "Iter 2241: Loss:1.5470201969146729 Reg:3.1048946380615234\n",
            "Iter 2261: Loss:1.5470279455184937 Reg:3.1046438217163086\n",
            "Iter 2281: Loss:1.5470203161239624 Reg:3.1046009063720703\n",
            "Iter 2301: Loss:1.5470315217971802 Reg:3.1045050621032715\n",
            "Iter 2321: Loss:1.5470281839370728 Reg:3.1044552326202393\n",
            "Iter 2341: Loss:1.5470401048660278 Reg:3.10518741607666\n",
            "Iter 2361: Loss:1.5470547676086426 Reg:3.104933977127075\n",
            "Iter 2381: Loss:1.5470350980758667 Reg:3.1037826538085938\n",
            "Iter 2401: Loss:1.54705011844635 Reg:3.1036808490753174\n",
            "Iter 2421: Loss:1.5470457077026367 Reg:3.103527307510376\n",
            "Iter 2441: Loss:1.5470585823059082 Reg:3.103438377380371\n",
            "Iter 2461: Loss:1.5470528602600098 Reg:3.1032943725585938\n",
            "Iter 2481: Loss:1.5470637083053589 Reg:3.103210926055908\n",
            "Iter 2501: Loss:1.5470571517944336 Reg:3.103081464767456\n",
            "Iter 2521: Loss:1.5470657348632812 Reg:3.103984832763672\n",
            "Iter 2541: Loss:1.5470582246780396 Reg:3.1038355827331543\n",
            "Iter 2561: Loss:1.547049880027771 Reg:3.102625846862793\n",
            "Iter 2581: Loss:1.5470412969589233 Reg:3.102471113204956\n",
            "Iter 2601: Loss:1.547049880027771 Reg:3.102229118347168\n",
            "Iter 2621: Loss:1.5470409393310547 Reg:3.1022050380706787\n",
            "Iter 2641: Loss:1.547061800956726 Reg:3.1019537448883057\n",
            "Iter 2661: Loss:1.547078013420105 Reg:3.102084159851074\n",
            "Iter 2681: Loss:1.5470428466796875 Reg:3.1018810272216797\n",
            "Iter 2701: Loss:1.5470696687698364 Reg:3.102883815765381\n",
            "Iter 2721: Loss:1.5470632314682007 Reg:3.101731777191162\n",
            "Iter 2741: Loss:1.5470564365386963 Reg:3.102526903152466\n",
            "Iter 2761: Loss:1.547049641609192 Reg:3.101513147354126\n",
            "Iter 2781: Loss:1.547027587890625 Reg:3.102339029312134\n",
            "Iter 2801: Loss:1.5470373630523682 Reg:3.1011977195739746\n",
            "Iter 2821: Loss:1.547029972076416 Reg:3.101001739501953\n",
            "Iter 2841: Loss:1.547040343284607 Reg:3.100698947906494\n",
            "Iter 2861: Loss:1.5470185279846191 Reg:3.1006553173065186\n",
            "Iter 2881: Loss:1.5470267534255981 Reg:3.101560115814209\n",
            "Iter 2901: Loss:1.5470377206802368 Reg:3.100365161895752\n",
            "Iter 2921: Loss:1.5470309257507324 Reg:3.1001527309417725\n",
            "Iter 2941: Loss:1.5470112562179565 Reg:3.0999324321746826\n",
            "Iter 2961: Loss:1.5470362901687622 Reg:3.100825548171997\n",
            "Iter 2981: Loss:1.5470322370529175 Reg:3.0995593070983887\n",
            "Iter 3001: Loss:1.5470267534255981 Reg:3.099498748779297\n",
            "Iter 3021: Loss:1.5470235347747803 Reg:3.099052906036377\n",
            "Iter 3041: Loss:1.5470328330993652 Reg:3.0998902320861816\n",
            "Iter 3061: Loss:1.5470548868179321 Reg:3.098599672317505\n",
            "Iter 3081: Loss:1.547042965888977 Reg:3.0983352661132812\n",
            "Iter 3101: Loss:1.5470463037490845 Reg:3.0979397296905518\n",
            "Iter 3121: Loss:1.5470465421676636 Reg:3.097949504852295\n",
            "Iter 3141: Loss:1.5470330715179443 Reg:3.0986580848693848\n",
            "Iter 3161: Loss:1.5470677614212036 Reg:3.098243236541748\n",
            "Iter 3181: Loss:1.54703688621521 Reg:3.0980987548828125\n",
            "Iter 3201: Loss:1.5470229387283325 Reg:3.0967376232147217\n",
            "Iter 3221: Loss:1.5470409393310547 Reg:3.097429037094116\n",
            "Iter 3241: Loss:1.5470441579818726 Reg:3.0958900451660156\n",
            "Iter 3261: Loss:1.5470306873321533 Reg:3.095454692840576\n",
            "Iter 3281: Loss:1.5470304489135742 Reg:3.09631609916687\n",
            "Iter 3301: Loss:1.547019362449646 Reg:3.0948374271392822\n",
            "Iter 3321: Loss:1.5470497608184814 Reg:3.0944809913635254\n",
            "Iter 3341: Loss:1.5470331907272339 Reg:3.093993902206421\n",
            "Iter 3361: Loss:1.5470354557037354 Reg:3.094599485397339\n",
            "Iter 3381: Loss:1.5470370054244995 Reg:3.0930886268615723\n",
            "Iter 3401: Loss:1.5470088720321655 Reg:3.092495918273926\n",
            "Iter 3421: Loss:1.5470291376113892 Reg:3.0920321941375732\n",
            "Iter 3441: Loss:1.5470433235168457 Reg:3.091447114944458\n",
            "Iter 3461: Loss:1.5470296144485474 Reg:3.0907816886901855\n",
            "Iter 3481: Loss:1.5470466613769531 Reg:3.0901358127593994\n",
            "Iter 3501: Loss:1.5470484495162964 Reg:3.090569019317627\n",
            "Iter 3521: Loss:1.5470342636108398 Reg:3.0898735523223877\n",
            "Iter 3541: Loss:1.5470539331436157 Reg:3.0889813899993896\n",
            "Iter 3561: Loss:1.5470399856567383 Reg:3.0871546268463135\n",
            "Iter 3581: Loss:1.5470266342163086 Reg:3.086609125137329\n",
            "Iter 3601: Loss:1.5470728874206543 Reg:3.08669376373291\n",
            "Iter 3621: Loss:1.5470592975616455 Reg:3.0858936309814453\n",
            "Iter 3641: Loss:1.5470283031463623 Reg:3.0839695930480957\n",
            "Iter 3661: Loss:1.5470341444015503 Reg:3.082965612411499\n",
            "Iter 3681: Loss:1.5470678806304932 Reg:3.0817222595214844\n",
            "Iter 3701: Loss:1.547052264213562 Reg:3.0809097290039062\n",
            "Iter 3721: Loss:1.5470681190490723 Reg:3.079860210418701\n",
            "Iter 3741: Loss:1.5470672845840454 Reg:3.0796425342559814\n",
            "Iter 3761: Loss:1.5470691919326782 Reg:3.0784318447113037\n",
            "Iter 3781: Loss:1.5470858812332153 Reg:3.077052354812622\n",
            "Iter 3801: Loss:1.5470831394195557 Reg:3.0757718086242676\n",
            "Iter 3821: Loss:1.5470502376556396 Reg:3.073305130004883\n",
            "Iter 3841: Loss:1.547054409980774 Reg:3.0717763900756836\n",
            "Iter 3861: Loss:1.5470882654190063 Reg:3.0712151527404785\n",
            "Iter 3881: Loss:1.547088861465454 Reg:3.069582462310791\n",
            "Iter 3901: Loss:1.5470746755599976 Reg:3.067901134490967\n",
            "Iter 3921: Loss:1.5470930337905884 Reg:3.066014289855957\n",
            "Iter 3941: Loss:1.5471259355545044 Reg:3.0640153884887695\n",
            "Iter 3961: Loss:1.5471082925796509 Reg:3.062103033065796\n",
            "Iter 3981: Loss:1.5471103191375732 Reg:3.0589334964752197\n"
          ]
        }
      ]
    },
    {
      "cell_type": "markdown",
      "source": [
        "Ako ste do sada sve napravili kako treba, predloženi postav trebao bi uspjeti naučiti tok s gubitkom od oko 2.5.\n",
        "\n",
        "Provjerimo još jednom stabilnost inverza. Kako biste komentrali rezultate?"
      ],
      "metadata": {
        "id": "OPKOed7X9lP4"
      }
    },
    {
      "cell_type": "code",
      "source": [
        "print((flow.inverse(flow(D)[0]) - D).sum())\n",
        "assert (flow.inverse(flow(D)[0]) - D).sum() < 1e-4"
      ],
      "metadata": {
        "id": "c8j5If0Y27kW",
        "colab": {
          "base_uri": "https://localhost:8080/"
        },
        "outputId": "b000f2f1-ffd8-48cb-eeee-7eab52e44b3b"
      },
      "execution_count": 210,
      "outputs": [
        {
          "output_type": "stream",
          "name": "stdout",
          "text": [
            "tensor(-1.0002, grad_fn=<SumBackward0>)\n"
          ]
        }
      ]
    },
    {
      "cell_type": "markdown",
      "source": [
        "Normalizirajućim tokom možemo generirati primjere na sljedeći način:"
      ],
      "metadata": {
        "id": "RRpZANT_9uyT"
      }
    },
    {
      "cell_type": "code",
      "source": [
        "X_ = flow.sample(2000).detach()\n",
        "plt.scatter(X_[:, 0], X_[:, 1], 1)\n",
        "plt.title(\"Generated samples\")\n",
        "plt.show()"
      ],
      "metadata": {
        "id": "-nC0KnXQ_6Zo",
        "colab": {
          "base_uri": "https://localhost:8080/",
          "height": 452
        },
        "outputId": "7399bba9-1bd0-4a26-841b-49776dca98bb"
      },
      "execution_count": 211,
      "outputs": [
        {
          "output_type": "display_data",
          "data": {
            "text/plain": [
              "<Figure size 640x480 with 1 Axes>"
            ],
            "image/png": "[encoded data removed]"
          },
          "metadata": {}
        }
      ]
    },
    {
      "cell_type": "code",
      "source": [
        "plt.clf()\n",
        "plt.scatter(D[:, 0], D[:, 1], 1)\n",
        "plt.scatter(X_[:, 0], X_[:, 1], 1)\n",
        "plt.show()"
      ],
      "metadata": {
        "id": "O7ZL0ILmAUJ4",
        "colab": {
          "base_uri": "https://localhost:8080/",
          "height": 430
        },
        "outputId": "6c0abda6-f916-44ad-a7fa-893af95dc4f9"
      },
      "execution_count": 212,
      "outputs": [
        {
          "output_type": "display_data",
          "data": {
            "text/plain": [
              "<Figure size 640x480 with 1 Axes>"
            ],
            "image/png": "[encoded data removed]"
          },
          "metadata": {}
        }
      ]
    },
    {
      "cell_type": "markdown",
      "source": [
        "Tok definiran razredom SimpleNF ne može ostvariti veliki kapacitet jer je kompozicija linearnih transformacija i dalje linearna transformacija. Stoga modelirana distribucija ne uspijeva dovoljno dobro aproksimirati $p_D$. Bolju aproksimaciju dobiti ćemo sofisticiranijom arhitekturom pod nazivom [RealNVP](https://arxiv.org/abs/1605.08803). RealNVP se sastoji od \"slojeva\" afinog miješanja koji su invertibilni po konstrukciji. Imajte na umu da afino miješanje tipično ostvarujemo s više slojeva dubokog modela jer modul miješanja `net` može sadržavati (i tipično sadrži) veći broj uzastopnih nelinearnih transformacija.\n",
        "\n",
        "Unaprijedni prolaz kroz afino miješanje s ulazom $\\mathbf{x}$ dimenzionalnosti $d$ definiramo kao ($m < d$):\n",
        "$$\n",
        "\\mathbf{z}_{:m} = \\mathbf{x}_{:m}\n",
        "$$\n",
        "$$\n",
        "\\mathbf{z}_{m:d} = \\exp(\\ln\\mathbf{s}) \\odot \\mathbf{x}_{m:d} + \\mathbf{t}, \\quad \\ln s, t = net(\\mathbf{x}_{:m})\n",
        "$$"
      ],
      "metadata": {
        "id": "SQcdNm-wuVTR"
      }
    },
    {
      "cell_type": "markdown",
      "source": [
        "**Zadatak 5.**: Skicirajte računske grafove unaprijednog i unatražnog prolaza kroz afino miješanje. \\\n",
        "Nadopunite predloženi razred `AffineCouplingLayer` s prikladnom funkcionalnošću.\n",
        "Afino miješanje transformira samo polovicu ulaznog tezora $\\mathbf{x}_{m:d}$, dok druga polovica $\\mathbf{x}_{:m}$ ostaje nepromijenjena.\n",
        "Modul miješanja `net` predviđa parametre miješanja `log_s` i `t` iz polovice ulaznog tenzora $\\mathbf{x}_{:m}$."
      ],
      "metadata": {
        "id": "muwz51aNwVdb"
      }
    },
    {
      "cell_type": "code",
      "source": [
        "class AffineCouplingLayer(_Bijection):\n",
        "    def __init__(self, net):\n",
        "        super(AffineCouplingLayer, self).__init__()\n",
        "        self.net = net\n",
        "\n",
        "    def forward(self, x): # NxD\n",
        "        # ...\n",
        "        return z, log_det # NxD , N\n",
        "\n",
        "    def inverse(self, y): # NxD\n",
        "        # ...\n",
        "        return x # NxD"
      ],
      "metadata": {
        "id": "zCh0mGhOeK1Q"
      },
      "execution_count": 213,
      "outputs": []
    },
    {
      "cell_type": "markdown",
      "source": [
        "**Zadatak 6.:** Zamislimo situaciju gdje slijedno primjenjujemo više coupling slojeva. Možemo primijetiti da će se miješati samo jedna polovica tenzora. Kako bismo osigurali da se miješaju obje polovice ulaznog tenzora, uvodimo transformaciju `SwitchSides` koju ćemo primijeniti nakon svakog coupling sloja.\n",
        "Na taj način osiguravamo da miješanje provodimo naizmjenično na dvjema polovicama ulaznog tenzora. \\\n",
        "Tenzor dijelimo po dimenziji značajki. Dovršite implementaciju razreda `SwitchSides` tako da dijeli ulazni tenzor na dva dijela po dimenziji značajki i zamjenjuje im strane. Možete iskoristiti funkcije [chunk](https://pytorch.org/docs/stable/generated/torch.chunk.html) i [cat](https://pytorch.org/docs/stable/generated/torch.cat.html)."
      ],
      "metadata": {
        "id": "5O75bubJeUNM"
      }
    },
    {
      "cell_type": "code",
      "source": [
        "class SwitchSides(_Bijection):\n",
        "\n",
        "    def forward(self, x):\n",
        "        # ...\n",
        "        return y, 0.\n",
        "\n",
        "    def inverse(self, z):\n",
        "        # ...\n",
        "        return x"
      ],
      "metadata": {
        "id": "nAGiRWSqgNAl"
      },
      "execution_count": 214,
      "outputs": []
    },
    {
      "cell_type": "markdown",
      "source": [
        "**Zadatak 7.:**U nastavku je dan razred `SimpleTransform` kojeg ćemo koristiti kao modul afinog miješanja u coupling sloju. Primijetite da će primjerci tog razreda biti atributi `net` razreda `AffineCouplingLayer`.\\\n",
        "Dovršite implementaciju tako da `model` bude potpuno povezani modul sljedeće arhitekture:\n",
        "\n",
        "`fc(dim, internal_dim) -> relu -> fc(internal_dim, internal_dim) -> relu -> fc(internal_dim, 2*dim)`.\n",
        "\n",
        "Dimenziju skrivenog sloja potpuno povezanog modula određujemo parametrom `inflate_coef`. \\\n",
        "\n",
        "\n",
        "Inicijalizirajte parametre modula miješanja tako da modul provodi transformaciju koja je jednaka identitetu. \\"
      ],
      "metadata": {
        "id": "8sqlpbo-gi19"
      }
    },
    {
      "cell_type": "code",
      "source": [
        "class SimpleTransform(nn.Module):\n",
        "    def __init__(self, dim, inflate_coef=1):\n",
        "        super(SimpleTransform, self).__init__()\n",
        "        self.dim = dim\n",
        "        internal_dim = int(dim * inflate_coef)\n",
        "        self.model = nn.Sequential(\n",
        "            # ...\n",
        "        )\n",
        "        # initialize self.model to identity\n",
        "        # ...\n",
        "\n",
        "    def forward(self, x):\n",
        "        out = self.model(x)\n",
        "        log_s, t = torch.chunk(out, dim=1, chunks=2)\n",
        "        return log_s, t"
      ],
      "metadata": {
        "id": "sLGHf7WPgiIr"
      },
      "execution_count": 215,
      "outputs": []
    },
    {
      "cell_type": "code",
      "source": [
        "class SimpleRealNVP(NormalizingFlow):\n",
        "    def __init__(self, input_dim, num_steps=2):\n",
        "        transforms = nn.Sequential()\n",
        "        for i in range(num_steps):\n",
        "            transforms.append(AffineCouplingLayer(SimpleTransform(input_dim//2)))\n",
        "            if i != num_steps - 1:\n",
        "                transforms.append(SwitchSides())\n",
        "        super(SimpleRealNVP, self).__init__(transforms, input_dim)\n"
      ],
      "metadata": {
        "id": "BB25jCUlhIly"
      },
      "execution_count": 216,
      "outputs": []
    },
    {
      "cell_type": "markdown",
      "source": [
        "Tok možemo naučiti na način kako slijedi:"
      ],
      "metadata": {
        "id": "7CsDfjxsh_qC"
      }
    },
    {
      "cell_type": "code",
      "source": [
        "flow = SimpleRealNVP(2, num_steps=7)\n",
        "optim = torch.optim.SGD(flow.parameters(), lr=1e-2, nesterov=True, momentum=0.9)\n",
        "\n",
        "for iter in range(2000):\n",
        "    optim.zero_grad()\n",
        "    log_px = flow.log_prob(D)\n",
        "    loss = - (log_px).mean()\n",
        "    total_loss = loss\n",
        "    total_loss.backward()\n",
        "    optim.step()\n",
        "    if iter % 20 == 0:\n",
        "        print(f\"Iter {iter+1}: Loss:{loss.item()}\")"
      ],
      "metadata": {
        "id": "MrmFJy6FJFDt",
        "colab": {
          "base_uri": "https://localhost:8080/",
          "height": 383
        },
        "outputId": "4678d062-fe2c-4d93-a4c0-14ea46390522"
      },
      "execution_count": 217,
      "outputs": [
        {
          "output_type": "error",
          "ename": "ValueError",
          "evalue": "optimizer got an empty parameter list",
          "traceback": [
            "\u001b[0;31m---------------------------------------------------------------------------\u001b[0m",
            "\u001b[0;31mValueError\u001b[0m                                Traceback (most recent call last)",
            "\u001b[0;32m<ipython-input-217-85fe7bd88c76>\u001b[0m in \u001b[0;36m<cell line: 0>\u001b[0;34m()\u001b[0m\n\u001b[1;32m      1\u001b[0m \u001b[0mflow\u001b[0m \u001b[0;34m=\u001b[0m \u001b[0mSimpleRealNVP\u001b[0m\u001b[0;34m(\u001b[0m\u001b[0;36m2\u001b[0m\u001b[0;34m,\u001b[0m \u001b[0mnum_steps\u001b[0m\u001b[0;34m=\u001b[0m\u001b[0;36m7\u001b[0m\u001b[0;34m)\u001b[0m\u001b[0;34m\u001b[0m\u001b[0;34m\u001b[0m\u001b[0m\n\u001b[0;32m----> 2\u001b[0;31m \u001b[0moptim\u001b[0m \u001b[0;34m=\u001b[0m \u001b[0mtorch\u001b[0m\u001b[0;34m.\u001b[0m\u001b[0moptim\u001b[0m\u001b[0;34m.\u001b[0m\u001b[0mSGD\u001b[0m\u001b[0;34m(\u001b[0m\u001b[0mflow\u001b[0m\u001b[0;34m.\u001b[0m\u001b[0mparameters\u001b[0m\u001b[0;34m(\u001b[0m\u001b[0;34m)\u001b[0m\u001b[0;34m,\u001b[0m \u001b[0mlr\u001b[0m\u001b[0;34m=\u001b[0m\u001b[0;36m1e-2\u001b[0m\u001b[0;34m,\u001b[0m \u001b[0mnesterov\u001b[0m\u001b[0;34m=\u001b[0m\u001b[0;32mTrue\u001b[0m\u001b[0;34m,\u001b[0m \u001b[0mmomentum\u001b[0m\u001b[0;34m=\u001b[0m\u001b[0;36m0.9\u001b[0m\u001b[0;34m)\u001b[0m\u001b[0;34m\u001b[0m\u001b[0;34m\u001b[0m\u001b[0m\n\u001b[0m\u001b[1;32m      3\u001b[0m \u001b[0;34m\u001b[0m\u001b[0m\n\u001b[1;32m      4\u001b[0m \u001b[0;32mfor\u001b[0m \u001b[0miter\u001b[0m \u001b[0;32min\u001b[0m \u001b[0mrange\u001b[0m\u001b[0;34m(\u001b[0m\u001b[0;36m2000\u001b[0m\u001b[0;34m)\u001b[0m\u001b[0;34m:\u001b[0m\u001b[0;34m\u001b[0m\u001b[0;34m\u001b[0m\u001b[0m\n\u001b[1;32m      5\u001b[0m     \u001b[0moptim\u001b[0m\u001b[0;34m.\u001b[0m\u001b[0mzero_grad\u001b[0m\u001b[0;34m(\u001b[0m\u001b[0;34m)\u001b[0m\u001b[0;34m\u001b[0m\u001b[0;34m\u001b[0m\u001b[0m\n",
            "\u001b[0;32m/usr/local/lib/python3.11/dist-packages/torch/optim/sgd.py\u001b[0m in \u001b[0;36m__init__\u001b[0;34m(self, params, lr, momentum, dampening, weight_decay, nesterov, maximize, foreach, differentiable, fused)\u001b[0m\n\u001b[1;32m     59\u001b[0m         \u001b[0;32mif\u001b[0m \u001b[0mnesterov\u001b[0m \u001b[0;32mand\u001b[0m \u001b[0;34m(\u001b[0m\u001b[0mmomentum\u001b[0m \u001b[0;34m<=\u001b[0m \u001b[0;36m0\u001b[0m \u001b[0;32mor\u001b[0m \u001b[0mdampening\u001b[0m \u001b[0;34m!=\u001b[0m \u001b[0;36m0\u001b[0m\u001b[0;34m)\u001b[0m\u001b[0;34m:\u001b[0m\u001b[0;34m\u001b[0m\u001b[0;34m\u001b[0m\u001b[0m\n\u001b[1;32m     60\u001b[0m             \u001b[0;32mraise\u001b[0m \u001b[0mValueError\u001b[0m\u001b[0;34m(\u001b[0m\u001b[0;34m\"Nesterov momentum requires a momentum and zero dampening\"\u001b[0m\u001b[0;34m)\u001b[0m\u001b[0;34m\u001b[0m\u001b[0;34m\u001b[0m\u001b[0m\n\u001b[0;32m---> 61\u001b[0;31m         \u001b[0msuper\u001b[0m\u001b[0;34m(\u001b[0m\u001b[0;34m)\u001b[0m\u001b[0;34m.\u001b[0m\u001b[0m__init__\u001b[0m\u001b[0;34m(\u001b[0m\u001b[0mparams\u001b[0m\u001b[0;34m,\u001b[0m \u001b[0mdefaults\u001b[0m\u001b[0;34m)\u001b[0m\u001b[0;34m\u001b[0m\u001b[0;34m\u001b[0m\u001b[0m\n\u001b[0m\u001b[1;32m     62\u001b[0m \u001b[0;34m\u001b[0m\u001b[0m\n\u001b[1;32m     63\u001b[0m         \u001b[0;32mif\u001b[0m \u001b[0mfused\u001b[0m\u001b[0;34m:\u001b[0m\u001b[0;34m\u001b[0m\u001b[0;34m\u001b[0m\u001b[0m\n",
            "\u001b[0;32m/usr/local/lib/python3.11/dist-packages/torch/optim/optimizer.py\u001b[0m in \u001b[0;36m__init__\u001b[0;34m(self, params, defaults)\u001b[0m\n\u001b[1;32m    364\u001b[0m         \u001b[0mparam_groups\u001b[0m \u001b[0;34m=\u001b[0m \u001b[0mlist\u001b[0m\u001b[0;34m(\u001b[0m\u001b[0mparams\u001b[0m\u001b[0;34m)\u001b[0m\u001b[0;34m\u001b[0m\u001b[0;34m\u001b[0m\u001b[0m\n\u001b[1;32m    365\u001b[0m         \u001b[0;32mif\u001b[0m \u001b[0mlen\u001b[0m\u001b[0;34m(\u001b[0m\u001b[0mparam_groups\u001b[0m\u001b[0;34m)\u001b[0m \u001b[0;34m==\u001b[0m \u001b[0;36m0\u001b[0m\u001b[0;34m:\u001b[0m\u001b[0;34m\u001b[0m\u001b[0;34m\u001b[0m\u001b[0m\n\u001b[0;32m--> 366\u001b[0;31m             \u001b[0;32mraise\u001b[0m \u001b[0mValueError\u001b[0m\u001b[0;34m(\u001b[0m\u001b[0;34m\"optimizer got an empty parameter list\"\u001b[0m\u001b[0;34m)\u001b[0m\u001b[0;34m\u001b[0m\u001b[0;34m\u001b[0m\u001b[0m\n\u001b[0m\u001b[1;32m    367\u001b[0m         \u001b[0;32mif\u001b[0m \u001b[0;32mnot\u001b[0m \u001b[0misinstance\u001b[0m\u001b[0;34m(\u001b[0m\u001b[0mparam_groups\u001b[0m\u001b[0;34m[\u001b[0m\u001b[0;36m0\u001b[0m\u001b[0;34m]\u001b[0m\u001b[0;34m,\u001b[0m \u001b[0mdict\u001b[0m\u001b[0;34m)\u001b[0m\u001b[0;34m:\u001b[0m\u001b[0;34m\u001b[0m\u001b[0;34m\u001b[0m\u001b[0m\n\u001b[1;32m    368\u001b[0m             \u001b[0mparam_groups\u001b[0m \u001b[0;34m=\u001b[0m \u001b[0;34m[\u001b[0m\u001b[0;34m{\u001b[0m\u001b[0;34m\"params\"\u001b[0m\u001b[0;34m:\u001b[0m \u001b[0mparam_groups\u001b[0m\u001b[0;34m}\u001b[0m\u001b[0;34m]\u001b[0m\u001b[0;34m\u001b[0m\u001b[0;34m\u001b[0m\u001b[0m\n",
            "\u001b[0;31mValueError\u001b[0m: optimizer got an empty parameter list"
          ]
        }
      ]
    },
    {
      "cell_type": "code",
      "source": [
        "print((flow.inverse(flow(D)) - D).sum())\n",
        "assert (flow.inverse(flow(D)) - D).sum() < 1e-4"
      ],
      "metadata": {
        "id": "l_wcddTYw64q"
      },
      "execution_count": null,
      "outputs": []
    },
    {
      "cell_type": "code",
      "source": [
        "X_ = flow.sample(2000, 1).detach()\n",
        "plt.scatter(X_[:, 0], X_[:, 1], 1)\n",
        "plt.show()"
      ],
      "metadata": {
        "id": "jDy--jYaJO2Q"
      },
      "execution_count": null,
      "outputs": []
    },
    {
      "cell_type": "code",
      "source": [
        "plt.clf()\n",
        "plt.scatter(D[:, 0], D[:, 1], 1)\n",
        "plt.scatter(X_[:, 0], X_[:, 1], 1)"
      ],
      "metadata": {
        "id": "5TIb8DhgJpB1"
      },
      "execution_count": null,
      "outputs": []
    },
    {
      "cell_type": "markdown",
      "source": [
        "Kao što vidite, kapacitetniji tok uspijeva dobro aproksimirati dani skup podataka."
      ],
      "metadata": {
        "id": "YXCecEFb-ae8"
      }
    },
    {
      "cell_type": "markdown",
      "source": [
        "## Modeliranje slika normalizirajućim tokom"
      ],
      "metadata": {
        "id": "cntMrCuDwlkj"
      }
    },
    {
      "cell_type": "markdown",
      "source": [
        "Naš sljedeći zadatak je modelirati distribuciju slika s normalizirajućim tokom. Slike možemo prestaviti diskretnim tenzorom $\\mathbf{x} \\in [0, 255]^{C \\times H \\times W}$. Prisjetimo se da smo normalizirajući tok definirali za kontinuirane slučajne varijable. Stoga, potrebno je transfrormirati skup podataka u kontinuiranu domenu pomoću zašumljivanja:\n",
        "\n",
        "$$\n",
        "\\mathbf{y} = \\mathbf{x} + \\mathbf{u}, \\quad \\mathbf{u} \\sim \\mathrm{U}[0, 1)\n",
        "$$\n",
        "U prestavlja uniformnu razdiobu. Sada, naš model uči modelirati zašumljenu sliku. Više o dekvantizaciji zašumljivanjem možete pronaći [ovdje](https://arxiv.org/pdf/1511.01844.pdf).\n",
        "\n",
        "MNIST je skup jednostavnih slika pa ćemo se sljedećim pojednostavljenjem. Sliku ćemo ispeglati u vektor i normalizirajućim tokom učiti takvu reprezentaciju slike.\n",
        "\n",
        "U nastavku je dan kod za pripremanje skupa slika."
      ],
      "metadata": {
        "id": "fihSoOBAfgWD"
      }
    },
    {
      "cell_type": "code",
      "source": [
        "from torchvision.datasets import MNIST\n",
        "import torchvision.transforms as tf\n",
        "from torch.utils.data import DataLoader, Subset"
      ],
      "metadata": {
        "id": "mjAxWg880ZoT"
      },
      "execution_count": null,
      "outputs": []
    },
    {
      "cell_type": "code",
      "source": [
        "train_ds = MNIST('.', train=True, download=True, transform=tf.Compose([tf.Resize(14), tf.ToTensor()]))\n",
        "test_ds = MNIST('.', train=False, download=True, transform=tf.Compose([tf.Resize(14), tf.ToTensor()]))\n",
        "\n",
        "selected_number = 0\n",
        "\n",
        "indices = [r[0] for r in list(filter(lambda x: x[1] == selected_number ,[(i, train_ds[i][1]) for i in range(len(train_ds))]))]\n",
        "train_ds = Subset(train_ds, indices)\n",
        "\n",
        "indices = [r[0] for r in list(filter(lambda x: x[1] == selected_number ,[(i, test_ds[i][1]) for i in range(len(test_ds))]))]\n",
        "test_ds = Subset(test_ds, indices)\n",
        "\n",
        "train_loader = DataLoader(train_ds, batch_size=128, shuffle=True)\n",
        "test_loader = DataLoader(test_ds, batch_size=128, shuffle=False)"
      ],
      "metadata": {
        "id": "hlg0BSAw0bGb"
      },
      "execution_count": null,
      "outputs": []
    },
    {
      "cell_type": "code",
      "source": [
        "def plot_mnist(samples, num_row, num_col):\n",
        "    assert len(samples) ==  num_row * num_col\n",
        "    fig, axes = plt.subplots(num_row, num_col, figsize=(1.5*num_col,2*num_row))\n",
        "    for i in range(len(samples)):\n",
        "        ax = axes[i//num_col, i%num_col]\n",
        "        ax.imshow(samples[i], cmap='gray')\n",
        "    plt.tight_layout()\n",
        "    plt.show()"
      ],
      "metadata": {
        "id": "MBQdhaR2o1y4"
      },
      "execution_count": null,
      "outputs": []
    },
    {
      "cell_type": "code",
      "source": [
        "samples = [train_ds[i][0][0] for i in range(10)]\n",
        "plot_mnist(samples, 2, 5)"
      ],
      "metadata": {
        "id": "8plOmcG3o7O6"
      },
      "execution_count": null,
      "outputs": []
    },
    {
      "cell_type": "markdown",
      "source": [
        "**Zadatak 8.:** Predložite arhitekturu toka koji će moći naučiti distribuciju vektoriziranih slika. Predlažemo koristiti rezidualni blok sljedeće arhitekture.\n",
        "\n",
        "`fc(dim, dim) -> BN -> relu -> fc(dim, dim) -> relu`\n",
        "\n",
        "Potrebno je dodati rezidualnu vezu od ulaza u rezidualni blok do latentne reprezentacije prije posljednje zglobnice.\n",
        "Dovršite implementaciju i validirajte utjecaj batchnorma na proces učenja i konačne rezultate."
      ],
      "metadata": {
        "id": "5xkU9mPWkiwy"
      }
    },
    {
      "cell_type": "code",
      "source": [
        "class ResidualBlock(nn.Module):\n",
        "    def __init__(self, dim, use_bn=False):\n",
        "        super(ResidualBlock, self).__init__()\n",
        "        self.layers = nn.Sequential()\n",
        "        # ...\n",
        "\n",
        "    def forward(self, x):\n",
        "        identity = x\n",
        "        out = self.layers(x)\n",
        "        out = out + identity\n",
        "        return self.f_relu(out)"
      ],
      "metadata": {
        "id": "5RJt87gc9HoI"
      },
      "execution_count": null,
      "outputs": []
    },
    {
      "cell_type": "markdown",
      "source": [
        "**Zadatak 9.:** Po uzoru na razred `SimpleTransform` dovršite implementaciju razreda `SimpleResidualTransform` čiji se modul miješanja sastoji od rezidualnih blokova. Predlažemo sljedeću arhitekturu:\n",
        "\n",
        "`fc(dim, internal_dim) -> relu -> res_block(internal_dim, internal_dim) -> fc(internal_dim, 2*dim)`\n",
        "\n",
        "Eksperimentirajte s brojem rezidualnih blokova. Kako broj rezidualnih blokova utječe na rezultate?"
      ],
      "metadata": {
        "id": "zaPosHKakhA8"
      }
    },
    {
      "cell_type": "code",
      "source": [
        "class SimpleResidualTransform(nn.Module):\n",
        "    def __init__(self, dim, inflate_coef=1):\n",
        "        super(SimpleResidualTransform, self).__init__()\n",
        "        # ...\n",
        "\n",
        "    def forward(self, x):\n",
        "        # ..."
      ],
      "metadata": {
        "id": "Cdj5_SS1kS1B"
      },
      "execution_count": null,
      "outputs": []
    },
    {
      "cell_type": "markdown",
      "source": [
        "**Zadatak 10.:** Dovršte implementaciju razreda `RealNVP` po uzoru na `SimpleRealNVP`. `RealNVP` treba koristiti `SimpleResidualTransform` umjesto `SimpleTransform` kao modul miješanja."
      ],
      "metadata": {
        "id": "378krGZ-zZUh"
      }
    },
    {
      "cell_type": "code",
      "source": [
        "class RealNVP(NormalizingFlow):\n",
        "    def __init__(self, input_dim, num_steps=2):\n",
        "        transforms = nn.Sequential()\n",
        "        # ... define transforms\n",
        "        super(RealNVP, self).__init__(transforms, input_dim)"
      ],
      "metadata": {
        "id": "4wi9loJekhwN"
      },
      "execution_count": null,
      "outputs": []
    },
    {
      "cell_type": "markdown",
      "source": [
        "U nastavku je kod za učenje toka.\n",
        "\n",
        "Obratite pozornost na to da izglednost slike prikazujemo u bitovima po dimenziji (BPD). Podsjetite se što ta mjera predstavlja i kako ju računamo."
      ],
      "metadata": {
        "id": "uPJ_jdPGz7F9"
      }
    },
    {
      "cell_type": "code",
      "source": [
        "device = 'cuda'\n",
        "flow = RealNVP(14*14, num_steps=21).to(device)\n",
        "optim = torch.optim.AdamW(flow.parameters(), lr=1e-5)\n",
        "epochs = 1000\n",
        "bits = 8\n",
        "for ep in range(epochs):\n",
        "    total_loss = 0.\n",
        "    iters = 0\n",
        "    for x, _ in train_loader:\n",
        "        x = (x * 255).long()\n",
        "        u = torch.rand_like(x.float())\n",
        "        x = x + u\n",
        "        x = x / (2 ** bits)\n",
        "        x = x.flatten(start_dim=1)\n",
        "\n",
        "        optim.zero_grad()\n",
        "        log_px = flow.log_prob(x.to(device)) - np.log((2 ** bits)) * (14 * 14)\n",
        "        loss = - (log_px).mean()\n",
        "        loss.backward()\n",
        "        optim.step()\n",
        "        iters += 1\n",
        "        total_loss += loss.item()\n",
        "    if ep % 10 == 0:\n",
        "        with torch.no_grad():\n",
        "            val_iters = 0\n",
        "            total_bpd = 0.\n",
        "            for x, _ in test_loader:\n",
        "                x = (x * 255).long()\n",
        "                u = torch.rand_like(x.float())\n",
        "                x = x + u\n",
        "                x = x / (2 ** bits)\n",
        "                x = x.flatten(start_dim=1)\n",
        "                log_px = flow.log_prob(x.to(device)) - np.log((2 ** bits)) * (14 * 14)\n",
        "                bpd = -(log_px).mean().cpu() / (np.log(2) * (14 * 14))\n",
        "                total_bpd += bpd\n",
        "                val_iters += 1\n",
        "        samples = flow.sample(10).detach().cpu()\n",
        "        samples = torch.unflatten(samples, dim=1, sizes=(14, 14)).unsqueeze(1)\n",
        "\n",
        "        plot_mnist(samples[:, 0], 2, 5)\n",
        "\n",
        "        print(f\"Epoch {ep+1}: Train Loss:{total_loss / iters} Val BPD: {total_bpd / val_iters}\")"
      ],
      "metadata": {
        "id": "X9Uiqr_E0XOj"
      },
      "execution_count": null,
      "outputs": []
    },
    {
      "cell_type": "code",
      "source": [
        "samples = flow.sample(10).detach().cpu()\n",
        "samples = torch.unflatten(samples, dim=1, sizes=(14, 14)).unsqueeze(1)\n",
        "plot_mnist(samples[:,0], 2, 5)"
      ],
      "metadata": {
        "id": "DQ6XLhRHjGp3"
      },
      "execution_count": null,
      "outputs": []
    },
    {
      "cell_type": "markdown",
      "source": [
        "## Bonus zadatak\n",
        "\n",
        "Predložite implementaciju konvolucijskog normalizirajućeg toka."
      ],
      "metadata": {
        "id": "VP_LQwbL-qY7"
      }
    },
    {
      "cell_type": "code",
      "source": [],
      "metadata": {
        "id": "VK1nTCkD6aAL"
      },
      "execution_count": null,
      "outputs": []
    }
  ]
}