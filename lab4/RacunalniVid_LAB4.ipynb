{
  "nbformat": 4,
  "nbformat_minor": 0,
  "metadata": {
    "colab": {
      "provenance": [],
      "gpuType": "T4",
      "include_colab_link": true
    },
    "kernelspec": {
      "name": "python3",
      "display_name": "Python 3"
    },
    "language_info": {
      "name": "python"
    },
    "accelerator": "GPU"
  },
  "cells": [
    {
      "cell_type": "markdown",
      "metadata": {
        "id": "view-in-github",
        "colab_type": "text"
      },
      "source": [
        "<a href=\"https://colab.research.google.com/github/MarkoHaralovic/computer_vision/blob/main/lab4/RacunalniVid_LAB4.ipynb\" target=\"_parent\"><img src=\"https://colab.research.google.com/assets/colab-badge.svg\" alt=\"Open In Colab\"/></a>"
      ]
    },
    {
      "cell_type": "markdown",
      "source": [
        "### Predgovor\n",
        "Ova vježba sastoji se od teoretskog i praktičnog dijela. Bez adekvatnog teorijskog razumijevanja, izvedba vježbe biti će značajno izazovnija.\n",
        "\n",
        "Predlažemo da napravite kopiju ove bilježnice na svoj Colab profil i tamo riješite vježbu. Ne zaboravite uključiti GPU akceleraciju (Runtime->Change runtime type->GPU->Save). \\\n",
        "\n",
        "U slučaju nejasnoća javite se na anja.delic@fer.hr."
      ],
      "metadata": {
        "id": "uhIzBADQDNCB"
      }
    },
    {
      "cell_type": "markdown",
      "source": [
        "# 4. Laboratorijska vježba - generativno modeliranje"
      ],
      "metadata": {
        "id": "vKtPXFrnpYzC"
      }
    },
    {
      "cell_type": "markdown",
      "source": [
        "Jedan od glavnih katalizatora u razvoju modernog računalnog vida jest dostupnost velikih skupova podataka. Iako su skupovi podataka lako dostupni, proces koji generira podatke je često nepoznat. Cilj ove laboratorijske vježbe jest pokušati aproksimirati proces koji generira dani skup podataka.\n"
      ],
      "metadata": {
        "id": "uzIreOYS7B8T"
      }
    },
    {
      "cell_type": "markdown",
      "source": [
        "## Teorijska podloga generativnom modeliranju"
      ],
      "metadata": {
        "id": "kcPMUvv3E1pL"
      }
    },
    {
      "cell_type": "markdown",
      "source": [
        "Krenuti ćemo od bolje definicije zadatka.\n",
        "Pretpostavimo postojanje skupa podataka $D=\\{\\mathbf{x}_i\\}_{i=1}^N$ koji je nastao uzorkovanjem nepoznate distribucije $P_D(\\underline{\\mathbf{x}})$. Nadalje, pretpostavimo da je svaki primjer $\\mathbf{x}_i$ dobiven nezavisnim uzorkovanjem. Naš cilj je aproksimirati nepoznatu distribuciju podataka $P_D(\\underline{\\mathbf{x}})$ poznatim modelom $P_\\theta(\\underline{\\mathbf{x}})$.\n",
        "S obzirom da su naši podaci često u kontinuirani ($\\underline{\\mathbf{x}}$ je kontinuirana slučajna varijabla) baviti ćemo se modeliranjem gustoća vjerojatnosti $p_D(\\underline{\\mathbf{x}})$ i $p_\\theta(\\underline{\\mathbf{x}})$."
      ],
      "metadata": {
        "id": "f9YQxQbbEz7w"
      }
    },
    {
      "cell_type": "markdown",
      "source": [
        "**Problem 1.:** Kako poravnati nepoznati $p_D(\\underline{\\mathbf{x}})$ i poznati $p_\\theta(\\underline{\\mathbf{x}})$?\n",
        "\n"
      ],
      "metadata": {
        "id": "HHwh1wyJASSH"
      }
    },
    {
      "cell_type": "markdown",
      "source": [
        "U teoriji vjerojatnosti, različitost između dvije distribucije $P(\\underline{x})$ i $Q(\\underline{x})$ se mjeri pomoću f-divergencije. Jedna od najčešćih mjera iz obitelji f-divergencija je KL-divergencija. KL-divergenciju za kontinuirane slučajne varijable definiramo kao:\n",
        "$$\n",
        "\\mathrm{KL}(P, Q) = \\int_{-\\infty}^{+\\infty} p(x) \\ln\\frac{p(x)}{q(x)} dx.\n",
        "$$\n",
        "$p$ i $q$ su pripadajuće gustoće vjerojatnosti."
      ],
      "metadata": {
        "id": "G9Sv47JgCUS-"
      }
    },
    {
      "cell_type": "markdown",
      "source": [
        "KL-divergencije između distribucije podataka i distribucije modela je primamljiv gubitak za naš optimizacijski postupak. Može se pokazati da je minimizacija KL divergencije između distribucije podataka i distribucije modela ekvivalentna minimizaciji negativne log-izglednosti skupa podataka za učenje:\n",
        "$$\n",
        "\\underset{\\theta}{\\mathrm{min}} \\, \\mathrm{KL}(p_D, p_\\theta) \\simeq \\underset{\\theta}{\\mathrm{min}} \\, -\\mathbb{E}_{\\mathbf{x} \\in D} \\;\\;  [\\ln p_\\theta(\\mathbf{x})]\n",
        "$$"
      ],
      "metadata": {
        "id": "ryOKIYqGGd1d"
      }
    },
    {
      "cell_type": "markdown",
      "source": [
        "**Zadatak 1.**: Dokažite navedenu tvrdnju."
      ],
      "metadata": {
        "id": "Y5YX-JnVJ1q9"
      }
    },
    {
      "cell_type": "markdown",
      "source": [
        "Dokaz:\n",
        "$$\n",
        "\\, \\mathrm{KL}(p_D, p_\\theta) =   \\int_{-\\infty}^{+\\infty} p_D(x) \\ln\\frac{p_D(x)}{p_\\theta(x)} dx\n",
        "$$\n",
        "$$\n",
        "\\, \\mathrm{KL}(p_D, p_\\theta) =  \\int_{-\\infty}^{+\\infty} p_D(x) \\ln p_D(x) dx - \\int_{-\\infty}^{+\\infty} p_D(x) \\ln p_\\theta(x) dx .\n",
        "$$\n",
        "$$\n",
        "\\, \\mathrm{KL}(p_D, p_\\theta) =  H(p_D) - E(\\ln p_\\theta(x) dx)\n",
        "$$\n",
        "$$\n",
        "\\underset{\\theta}{\\mathrm{min}} \\, \\mathrm{KL}(p_D, p_\\theta)  = \\underset{\\theta}{\\mathrm{min}} \\, ( \\int_{-\\infty}^{+\\infty} p_D(x) \\ln p_D(x) dx - \\int_{-\\infty}^{+\\infty} p_D(x) \\ln p_\\theta(x) dx )\n",
        "$$\n",
        "$$\n",
        "\\underset{\\theta}{\\mathrm{min}} \\, \\mathrm{KL}(p_D, p_\\theta) =  \\underset{\\theta}{\\mathrm{min}} \\, (H(p_D) - E(\\ln p_\\theta(x) dx))\n",
        "$$\n",
        "A kako je entropija od p konstanta, minimum degradira samo u drugi član :\n",
        "$$\n",
        "\\underset{\\theta}{\\mathrm{min}} \\, \\mathrm{KL}(p_D, p_\\theta) =  \\underset{\\theta}{\\mathrm{min}} \\, (- E(\\ln p_\\theta(x) dx))\n",
        "$$"
      ],
      "metadata": {
        "id": "wAe65zwZKScr"
      }
    },
    {
      "cell_type": "markdown",
      "source": [
        "**Problem 2.**: Definicija modela $p_\\theta$."
      ],
      "metadata": {
        "id": "mcltA0gCk94E"
      }
    },
    {
      "cell_type": "markdown",
      "source": [
        "Naš sljedeći korak je definirati model $p_\\theta$. Upravo po definiciji  $p_\\theta$ razlikujemo različite generativne modele.\n",
        "Na primjer autoregresivna faktorizacija modela dovodi do autoregresijskih modela, dok modeliranje nenormalizirane distribucije dovodi do energijskih modela. U ovoj vježbi se fokusiramo  na vrstu generativnih modela koje nazivamo normalizirajući tokovi. Normalizirajući tok $p_\\theta$ definiramo pomoću formule za zamjenu varijabli distribucije.\n",
        "\n",
        "Pretpostavimo da su $\\underline{\\mathbf{x}}$ i $\\underline{\\mathbf{z}}$ dvije kontinuirane slučajne varijable. Pretpostavimo da bijekcija $f$ mapira realizacije slučajne varijable $\\underline{\\mathbf{x}}$ u realizacije od $\\underline{\\mathbf{z}}$, to jest $\\mathbf{z} = f(\\mathbf{x})$. S obzirom da je $f$ bijekcija vrijedi i obrat $\\mathbf{x} = f^{-1}(\\mathbf{z})$. Formulu za zamjenu varijabi distribucije definiramo kao:\n",
        "$$\n",
        " p(\\mathbf{x}) = q(\\mathbf{z}) \\left| \\mathrm{det} \\frac{\\partial \\mathbf{z}}{ \\partial \\mathbf{x}} \\right|, \\quad \\mathbf{z} = f(\\mathbf{x})\n",
        "$$\n",
        "$\\frac{∂ \\mathbf{z}}{ ∂ \\mathbf{x}}$ predstavlja Jakobijan funkcije $f$ za $\\textbf{x}$. det predstavlja determinantu. $|\\cdot|$ predstavlja apsolutnu vrijednost.\n",
        "To jest, drugi član umnoška odgovara apsolutnoj vrijednosti determinante Jakobijana transformacije $f$."
      ],
      "metadata": {
        "id": "-QTBdTnEMnk2"
      }
    },
    {
      "cell_type": "markdown",
      "source": [
        "Formulu za zamjenu varijabli ćemo iskoristiti za izgradnju okvira koji nam omogućava implementaciju dubokog generativnog modela.\n",
        "Ideja je jednostavna, distribuciju $q(\\mathbf{z})$ možemo predefinirati (npr. kao Gaussovu distribuciju). Tada nam je jedina nepoznanica bijekcija $f$ koju možemo parametrizirati s $\\theta$ te naučiti optimizacijskim postupkom.\n"
      ],
      "metadata": {
        "id": "Q1WEnc3ZarRI"
      }
    },
    {
      "cell_type": "markdown",
      "source": [
        "Prisjetimo se sljedećih teorema:\n",
        "1. kompozicija bijekcija je bijekcija, tj $f$ možemo raspisati kao $f = f_1 ∘ f_2 ∘ f_3 ∘ \\dots \\circ f_K$.\n",
        "2. pravilo ulančavanja: $\\frac{∂ z_3}{ ∂ z_1} = \\frac{∂ z_3}{ ∂ z_2}\\frac{∂ z_2}{ ∂ z_1} $\n",
        "3. determinanta umnoška dviju kvadratnih matrica istog reda jednaka je umnošku determinanti svake matrice (Binet-Cauchyjev teorem)\n",
        "4. Apsolutna vrijednost umnoška dva realna broja je jednaka umnošku apsolutnih vrijednosti: $|a\\cdot b| = |a|\\cdot |b|$\n",
        "\n",
        "Bijekciju $f$ možemo promatrati kao kompoziciju funkcija, gdje svaka funkcija $f_i$ prima varijablu $z_{i-1}$ i računa varijablu $z_i$.\n",
        "Ako uzmemo u obzir prethodno spomenute teoreme, dolazimo do sljedeće formulacije:\n",
        "$$\n",
        " p_\\theta (\\mathbf{x}) = q(\\mathbf{z}_K) \\prod_{k=1}^K \\left| \\mathrm{det} \\frac{\\partial \\mathbf{z}_{k} }{ \\partial \\mathbf{z}_{k-1}} \\right|, \\quad \\mathbf{z}_{k} = f_{\\theta_k}(\\mathbf{z}_{k-1}),\n",
        "$$\n",
        "gdje je $\\mathbf{z}_{0} = \\mathbf{x}$.\n",
        "$q(\\mathbf{z}_K)$ može biti proizvoljna distribucija pa je definiramo kao $q(\\mathbf{z}_K):= \\mathcal{N}(\\mathbf{z}_K; 0, \\mathrm{I})$."
      ],
      "metadata": {
        "id": "OjcJuvHaQOBV"
      }
    },
    {
      "cell_type": "markdown",
      "source": [
        "**Zadatak 2.** Krenuvši od općenite formule za zamjenu varijabli izvedite izraz za normalizirajući tok."
      ],
      "metadata": {
        "id": "BVx7UqIZh19J"
      }
    },
    {
      "cell_type": "markdown",
      "source": [
        "Izvod:\n",
        "$$\n",
        "p(\\mathbf{x}) = q(\\mathbf{z}_K) \\left| \\mathrm{det} \\frac{\\partial f(\\mathbf{x})}{ \\partial \\mathbf{x}} \\right|\n",
        "$$\n",
        "$$\n",
        "| z = f(x) , \\partial f(\\mathbf{x}) =\\partial z |\n",
        "$$\n",
        "$$\n",
        "= q(\\mathbf{z}_K) | \\mathrm{det} \\frac{\\partial \\mathbf{z}_{k} }{ \\partial \\mathbf{z}_{k-1}}| | \\mathrm{det} \\frac{\\partial \\mathbf{z}_{k-1} }{ \\partial \\mathbf{z}_{k-2}}| | \\mathrm{det} \\frac{\\partial \\mathbf{z}_{k-2} }{ \\partial \\mathbf{z}_{k-3}}| ... | \\mathrm{det} \\frac{\\partial \\mathbf{z}_{1} }{ \\partial \\mathbf{x}}|\n",
        "$$\n",
        "$$\n",
        "= q(\\mathbf{z}_K) \\prod_{k=1}^K \\left| \\mathrm{det} \\frac{\\partial \\mathbf{z}_{k} }{ \\partial \\mathbf{z}_{k-1}} \\right|\n",
        "$$\n",
        "$$\n",
        "| z = f(x) , \\mathbf{x} = f^{-1}(\\mathbf{z})|\n",
        "$$\n",
        "$$\n",
        "= q(\\mathbf{z}) \\left| \\mathrm{det} \\frac{\\partial f^{-1}(\\mathbf{x})}{ \\partial \\mathbf{x}} \\right|\n",
        "$$\n",
        "$$\n",
        "= q(\\mathbf{ f^{-1}(x) }) \\left| \\mathrm{det} \\frac{\\partial f^{-1}(\\mathbf{x})}{ \\partial \\mathbf{x}} \\right|\n",
        "$$"
      ],
      "metadata": {
        "id": "QcG4_w3XiVxC"
      }
    },
    {
      "cell_type": "markdown",
      "source": [
        "Spomenimo još da nas općenito zanima logaritam gustoće vjerojatnosti pa pišemo:\n",
        "$$\n",
        " \\ln p_\\theta (\\mathbf{x}) = \\ln q(\\mathbf{z}_K) +\\sum_{k=1}^K \\ln \\left| \\mathrm{det} \\frac{\\partial \\mathbf{z}_{k} }{ \\partial \\mathbf{z}_{k-1}} \\right|, \\quad \\mathbf{z}_{k} = f_{\\theta_k}(\\mathbf{z}_{k-1}), \\tag{1}\n",
        "$$"
      ],
      "metadata": {
        "id": "GzQTQ_1pBBcF"
      }
    },
    {
      "cell_type": "markdown",
      "source": [
        "Ostala nam je još jedna nepoznanica, a to je dizajn funkcija $f_k$,  $k=1,...,K$.\n",
        "Dizajn funkcije f ovisi o podacima koje modeliramo. Razmislite kako biste bijekciju modelirali kao gradivni blok dubokog modela."
      ],
      "metadata": {
        "id": "N9gRzeKonoKN"
      }
    },
    {
      "cell_type": "markdown",
      "source": [
        "## Modeliranje 2D skupa podataka normalizirajućim tokom"
      ],
      "metadata": {
        "id": "2LJNZ2ez-138"
      }
    },
    {
      "cell_type": "markdown",
      "source": [
        "**Problem 3.** Modeliranje 2D skupa podatka."
      ],
      "metadata": {
        "id": "8pnaIDgmlMKu"
      }
    },
    {
      "cell_type": "code",
      "execution_count": 584,
      "metadata": {
        "id": "E8oosfEPpUaR"
      },
      "outputs": [],
      "source": [
        "import torch\n",
        "import random\n",
        "import numpy as np\n",
        "import torch.nn as nn\n",
        "\n",
        "np.random.seed(0)\n",
        "random.seed(0)\n",
        "torch.manual_seed(0)\n",
        "\n",
        "import matplotlib.pyplot as plt"
      ]
    },
    {
      "cell_type": "code",
      "source": [
        "class GaussianMixture2DDataset:\n",
        "    def __init__(self, num_samples, n_comp=2, loc=torch.zeros(2,2), scale=torch.ones(2,2), pi=(torch.ones(2)/2)):\n",
        "        samples_per_component = (pi * num_samples).long()\n",
        "        self.samples = torch.cat([torch.randn(samples_per_component[i],2) * scale[i] + loc[i] for i in range(n_comp)], 0)\n",
        "\n",
        "    def __getitem__(self, idx):\n",
        "        return self.samples[idx]"
      ],
      "metadata": {
        "id": "FPjc6n7sqLIn"
      },
      "execution_count": 585,
      "outputs": []
    },
    {
      "cell_type": "markdown",
      "source": [
        "Promotrimo sljedeći skup podataka. Pretpostavimo da nam je dostupan samo skup podataka $D$. Cilj nam je aproksimirati distribuciju podataka $p_D$ pomoću normalizirajućeg toka."
      ],
      "metadata": {
        "id": "qrDsz9ajlmYb"
      }
    },
    {
      "cell_type": "code",
      "source": [
        "D = GaussianMixture2DDataset(9999, loc=torch.tensor([[-1, -1], [1,1]]), scale=torch.tensor([[0.5, 0.5], [0.5,0.5]])).samples\n",
        "plt.scatter(D[:, 0], D[:, 1], 1)\n",
        "plt.show()"
      ],
      "metadata": {
        "id": "SdbqYcV0sOZK",
        "colab": {
          "base_uri": "https://localhost:8080/",
          "height": 434
        },
        "outputId": "b8b56190-584f-42e8-870b-774b83e88ff4"
      },
      "execution_count": 586,
      "outputs": [
        {
          "output_type": "display_data",
          "data": {
            "text/plain": [
              "<Figure size 640x480 with 1 Axes>"
            ],
            "image/png": "[encoded data removed]"
          },
          "metadata": {}
        }
      ]
    },
    {
      "cell_type": "code",
      "source": [
        "D.shape"
      ],
      "metadata": {
        "colab": {
          "base_uri": "https://localhost:8080/"
        },
        "id": "VNgJ5_bkEvIu",
        "outputId": "29e1542a-8c0e-455c-96af-4d8927d371f0"
      },
      "execution_count": 587,
      "outputs": [
        {
          "output_type": "execute_result",
          "data": {
            "text/plain": [
              "torch.Size([9998, 2])"
            ]
          },
          "metadata": {},
          "execution_count": 587
        }
      ]
    },
    {
      "cell_type": "markdown",
      "source": [
        "S obzirom da modeliramo 2D skup podatka, zanimaju nas funkcije s domenom $\\mathbb{R}^2$ i kodomenom $\\mathbb{R}^2$ koje imaju inverz.\n",
        "Definiramo sljedeći implementacijski ovir:"
      ],
      "metadata": {
        "id": "e6UCmiYqoTxf"
      }
    },
    {
      "cell_type": "markdown",
      "source": [
        "$$\n",
        "\\ln p_\\theta (\\mathbf{x})  = q(\\mathbf{ f^{-1}(x) }) \\left| \\mathrm{det} \\frac{\\partial f^{-1}(\\mathbf{x})}{ \\partial \\mathbf{x}} \\right|\n",
        "$$"
      ],
      "metadata": {
        "id": "XXBi5lSII-Q1"
      }
    },
    {
      "cell_type": "code",
      "source": [
        "from abc import ABC, abstractmethod\n",
        "class _Bijection(nn.Module, ABC):\n",
        "    def __init__(self):\n",
        "        super(_Bijection, self).__init__()\n",
        "    @abstractmethod\n",
        "    def forward(self, x):\n",
        "        pass\n",
        "    @abstractmethod\n",
        "    def inverse(self, z):\n",
        "        pass"
      ],
      "metadata": {
        "id": "oB_3FyfGsfmF"
      },
      "execution_count": 588,
      "outputs": []
    },
    {
      "cell_type": "markdown",
      "source": [
        "Funkcija `forward` implementira unaprijedni prolaz kroz sloj i na izlazu vraća transformirani ulaz i logaritam apsolutne vrijednosti determinante Jakobijana funkcije. \\\n",
        "Funkcija `inverse` implementira inverzni probalz kroz sloj i na izlazu vraća transformirani ulaz."
      ],
      "metadata": {
        "id": "NLaq4kuYrv21"
      }
    },
    {
      "cell_type": "markdown",
      "source": [
        "**Zadatak 3.**: Pokušajmo ponuditi bijektivnu alternativu sloju torch.nn.Linear za dvodimenzionalne podatke. Obratite pozornost na to da je transformaciju potrebno održavati invertibilnom regularizacijskim članom.\n",
        "Nadopunite forward i inverse funkciju.\n",
        "\n",
        "Uputa: Linearna transformacija se primjenjuje na svaki primjer u minigrupi nezavisno. Zbog malene dimenzionalnosti, invertiranje i računanje determinante Jakobijana možemo izvesti grubom silom, izravnim pozivom odgovarajućih funkcija torcha."
      ],
      "metadata": {
        "id": "VIFMGWxqri3u"
      }
    },
    {
      "cell_type": "code",
      "source": [
        "from torch import Tensor\n",
        "from torch.nn import functional as F\n",
        "from torch.autograd.functional import jacobian\n",
        "from typing import Any, Union\n",
        "\n",
        "def sum_except_batch(x, num_dims=1):\n",
        "    return x.reshape(*x.shape[:num_dims], -1).sum(-1)\n",
        "\n",
        "class BijectiveLinear2D(_Bijection):\n",
        "    def __init__(self, dim : int):\n",
        "        super(_Bijection, self).__init__()\n",
        "        self.dim = dim\n",
        "        self.weight = nn.Parameter(torch.eye(dim))\n",
        "        self.bias = nn.Parameter(torch.zeros(1, dim))\n",
        "\n",
        "    def linear(self, x):\n",
        "        return F.linear(x, self.weight, self.bias)\n",
        "\n",
        "    def forward(self, x: Tensor) -> Union[Tensor, Tensor]:\n",
        "        \"\"\"Forward pass, returns transformed input and log absolute value of determinant of Jacobian of the function.\n",
        "           x has shape NxD\n",
        "         \"\"\"\n",
        "        z = self.linear(x) # NxD\n",
        "        log_det = torch.log(torch.abs(torch.det(self.weight)))\n",
        "        return z,  log_det # z shapes NxD, N\n",
        "\n",
        "    def inverse(self, z : Tensor) -> Tensor:\n",
        "        x = F.linear(input = z, weight = torch.inverse(self.weight), bias = - torch.matmul(self.bias, torch.inverse(self.weight)))\n",
        "        return x    # NxD\n",
        "\n",
        "    def regularization(self):\n",
        "        return ((self.weight @ self.weight) - torch.eye(self.dim)).abs().sum()\n",
        "\n",
        "\n"
      ],
      "metadata": {
        "id": "lS9FtpcPqVpJ"
      },
      "execution_count": 589,
      "outputs": []
    },
    {
      "cell_type": "code",
      "source": [
        "bj = BijectiveLinear2D(2)\n",
        "x = torch.tensor([[2.0, 10.0],[2.0, 10.0]])\n",
        "assert torch.equal(bj.inverse(bj.forward(x)[0]),x)"
      ],
      "metadata": {
        "id": "NRDW6vSTnpVk"
      },
      "execution_count": 590,
      "outputs": []
    },
    {
      "cell_type": "markdown",
      "source": [
        "**Zadatak 4.**: Nadopunjavanje izvedbe osnovnog razreda `NormalizingFlow`.\n",
        "\n",
        "Proučite predloženu nepotpunu izvedbu razreda `NormalizingFlow`. Obratite pozornost na to da konstruktor razreda prima argument `transforms` koji mora biti tipa [torch.nn.Sequential](https://pytorch.org/docs/stable/generated/torch.nn.Sequential.html) kako bismo kroz taj objekt mogli iterirati pri unaprijednom i inverznom prolazu. Iteraciju ćemo provoditi `for` petljom i tako prolaziti kroz slojeve normalizirajućeg toka. Predložite potpunu izvedbu razreda `NormalizingFlow` pod pretpostavkom da svi elementi slijednog modela `transforms` nasljeđuju prethodno definirano sučelje `_Bijection`. Vaše rješenje može dodavati nove lokalne metode razredu `NormalizingFlow`.\n",
        "\n"
      ],
      "metadata": {
        "id": "8aKtTZhIr7tN"
      }
    },
    {
      "cell_type": "code",
      "source": [
        "from typing import Tuple\n",
        "\n",
        "class NormalizingFlow(nn.Module):\n",
        "    \"\"\"\n",
        "    Base class for normalizing flow.\n",
        "    \"\"\"\n",
        "\n",
        "    def __init__(self, transforms : nn.ModuleList, input_dim : Tuple):\n",
        "        super(NormalizingFlow, self).__init__()\n",
        "        self.transforms = transforms\n",
        "\n",
        "        self.register_buffer('loc', torch.zeros(input_dim))\n",
        "        self.register_buffer('log_scale', torch.zeros(input_dim))\n",
        "        self.base_dist = torch.distributions.Normal(self.loc, torch.exp(self.log_scale))\n",
        "\n",
        "    def forward(self, x):\n",
        "        \"\"\"Transforms the input sample to the latent representation z.\n",
        "\n",
        "        Args:\n",
        "            x (torch.Tensor): input sample\n",
        "\n",
        "        Returns:\n",
        "            torch.Tensor: latent representation of the input sample\n",
        "        \"\"\"\n",
        "        z = x\n",
        "        total_log_abs_det = 0\n",
        "        for transform in self.transforms:\n",
        "            z,log_abs_det = transform.forward(z)\n",
        "            total_log_abs_det += log_abs_det\n",
        "        return z,total_log_abs_det\n",
        "\n",
        "    def inverse(self, z):\n",
        "        \"\"\"Transforms the latent representation z back to the input space.\n",
        "\n",
        "        Args:\n",
        "            z (torch.Tensor): latent representation\n",
        "\n",
        "        Returns:\n",
        "            torch.Tensor: representation in the input space\n",
        "        \"\"\"\n",
        "        x = z\n",
        "        for transform in reversed(self.transforms):\n",
        "            x = transform.inverse(x)\n",
        "        return x\n",
        "\n",
        "    def log_prob(self, x):\n",
        "        \"\"\"Calculates the log-likelihood of the given sample x (see equation (1)).\n",
        "\n",
        "        Args:\n",
        "            x (torch.Tensor): input\n",
        "\n",
        "        Returns:\n",
        "            torch.Tensor: log-likelihood of x\n",
        "        \"\"\"\n",
        "        z,log_abs_det = self.forward(x)\n",
        "        log_pz = self.base_dist.log_prob(z).sum(dim=1)\n",
        "        log_px =  log_pz + log_abs_det\n",
        "        return log_px\n",
        "\n",
        "    def sample(self, num_samples : int , T : float = 1):\n",
        "        \"\"\"Generates new samples from the normalizing flow.\n",
        "\n",
        "        Args:\n",
        "            num_samples (int): number of samples to generate\n",
        "            T (float, optional): sampling temperature. Defaults to 1.\n",
        "\n",
        "        Returns:\n",
        "            torch.Tensor: generated samples\n",
        "        \"\"\"\n",
        "        z = self.base_dist.sample(torch.Size([num_samples])) * T\n",
        "        x = self.inverse(z)\n",
        "        return x"
      ],
      "metadata": {
        "id": "SNBd58SdJBkn"
      },
      "execution_count": 591,
      "outputs": []
    },
    {
      "cell_type": "markdown",
      "source": [
        "U jednostavnom slučaju, transformaciju normalizirajućeg toka možemo definirati kao slijed linearnih transformacija:"
      ],
      "metadata": {
        "id": "K4jw_hqiZDVI"
      }
    },
    {
      "cell_type": "code",
      "source": [
        "class SimpleNF(NormalizingFlow):\n",
        "    def __init__(self, input_dim, num_steps=2):\n",
        "        transforms = nn.Sequential()\n",
        "        for _ in range(num_steps):\n",
        "            transforms.append(BijectiveLinear2D(input_dim))\n",
        "\n",
        "        super(SimpleNF, self).__init__(transforms=transforms, input_dim=input_dim)\n",
        "\n",
        "    def gather_regularization(self):\n",
        "        return sum([m.regularization() for m in self.transforms])"
      ],
      "metadata": {
        "id": "GPTAAO6kr6ei"
      },
      "execution_count": 592,
      "outputs": []
    },
    {
      "cell_type": "markdown",
      "source": [
        "Provjerite svoju implementaciju inverza sljedećim kodom:"
      ],
      "metadata": {
        "id": "2S76bp33sZxD"
      }
    },
    {
      "cell_type": "code",
      "source": [
        "flow = SimpleNF(2, num_steps=7)\n",
        "diff = (flow.inverse(flow(D)[0]) - D).sum().item()\n",
        "assert diff < 1e-9"
      ],
      "metadata": {
        "id": "9_YbUH-erqEx",
        "collapsed": true
      },
      "execution_count": 593,
      "outputs": []
    },
    {
      "cell_type": "markdown",
      "source": [
        "Tok učimo optmizacijom prethodno objašnjenog gubitka."
      ],
      "metadata": {
        "id": "yw1rECQCsgrd"
      }
    },
    {
      "cell_type": "code",
      "source": [
        "# flow = SimpleNF(2, num_steps=7)\n",
        "# optim = torch.optim.SGD(flow.parameters(), lr=1e-1)\n",
        "\n",
        "# for iter in range(4000):\n",
        "#     optim.zero_grad()\n",
        "#     log_px = flow.log_prob(D)\n",
        "#     loss = - (log_px).mean()\n",
        "#     loss_reg = flow.gather_regularization()\n",
        "#     total_loss = loss + 0.001 * loss_reg\n",
        "#     total_loss.backward()\n",
        "#     optim.step()\n",
        "#     if iter % 100 == 0:\n",
        "#         print(f\"Iter {iter+1}: Loss:{loss.item()} Reg:{loss_reg.item()}\")"
      ],
      "metadata": {
        "id": "m6VldF_vw8tu",
        "collapsed": true
      },
      "execution_count": 594,
      "outputs": []
    },
    {
      "cell_type": "markdown",
      "source": [
        "Ako ste do sada sve napravili kako treba, predloženi postav trebao bi uspjeti naučiti tok s gubitkom od oko 2.5.\n",
        "\n",
        "Provjerimo još jednom stabilnost inverza. Kako biste komentrali rezultate?"
      ],
      "metadata": {
        "id": "OPKOed7X9lP4"
      }
    },
    {
      "cell_type": "code",
      "source": [
        "print((flow.inverse(flow(D)[0]) - D).sum())\n",
        "assert (flow.inverse(flow(D)[0]) - D).sum() < 1e-4"
      ],
      "metadata": {
        "id": "c8j5If0Y27kW",
        "colab": {
          "base_uri": "https://localhost:8080/"
        },
        "outputId": "b3e85bff-dea6-4015-91bc-43b1b6f2ce64"
      },
      "execution_count": 595,
      "outputs": [
        {
          "output_type": "stream",
          "name": "stdout",
          "text": [
            "tensor(0., grad_fn=<SumBackward0>)\n"
          ]
        }
      ]
    },
    {
      "cell_type": "markdown",
      "source": [
        "Normalizirajućim tokom možemo generirati primjere na sljedeći način:"
      ],
      "metadata": {
        "id": "RRpZANT_9uyT"
      }
    },
    {
      "cell_type": "code",
      "source": [
        "# X_ = flow.sample(2000).detach()\n",
        "# plt.scatter(X_[:, 0], X_[:, 1], 1)\n",
        "# plt.title(\"Generated samples\")\n",
        "# plt.show()"
      ],
      "metadata": {
        "id": "-nC0KnXQ_6Zo"
      },
      "execution_count": 596,
      "outputs": []
    },
    {
      "cell_type": "code",
      "source": [
        "# plt.clf()\n",
        "# plt.scatter(D[:, 0], D[:, 1], 1)\n",
        "# plt.scatter(X_[:, 0], X_[:, 1], 1)\n",
        "# plt.show()"
      ],
      "metadata": {
        "id": "O7ZL0ILmAUJ4"
      },
      "execution_count": 597,
      "outputs": []
    },
    {
      "cell_type": "markdown",
      "source": [
        "Tok definiran razredom SimpleNF ne može ostvariti veliki kapacitet jer je kompozicija linearnih transformacija i dalje linearna transformacija. Stoga modelirana distribucija ne uspijeva dovoljno dobro aproksimirati $p_D$. Bolju aproksimaciju dobiti ćemo sofisticiranijom arhitekturom pod nazivom [RealNVP](https://arxiv.org/abs/1605.08803). RealNVP se sastoji od \"slojeva\" afinog miješanja koji su invertibilni po konstrukciji. Imajte na umu da afino miješanje tipično ostvarujemo s više slojeva dubokog modela jer modul miješanja `net` može sadržavati (i tipično sadrži) veći broj uzastopnih nelinearnih transformacija.\n",
        "\n",
        "Unaprijedni prolaz kroz afino miješanje s ulazom $\\mathbf{x}$ dimenzionalnosti $d$ definiramo kao ($m < d$):\n",
        "$$\n",
        "\\mathbf{z}_{:m} = \\mathbf{x}_{:m}\n",
        "$$\n",
        "$$\n",
        "\\mathbf{z}_{m:d} = \\exp(\\ln\\mathbf{s}) \\odot \\mathbf{x}_{m:d} + \\mathbf{t}, \\quad \\ln s, t = net(\\mathbf{x}_{:m})\n",
        "$$"
      ],
      "metadata": {
        "id": "SQcdNm-wuVTR"
      }
    },
    {
      "cell_type": "markdown",
      "source": [
        "**Zadatak 5.**: Skicirajte računske grafove unaprijednog i unatražnog prolaza kroz afino miješanje. \\"
      ],
      "metadata": {
        "id": "muwz51aNwVdb"
      }
    },
    {
      "cell_type": "markdown",
      "source": [
        "TODO: skica računarskog grafa."
      ],
      "metadata": {
        "id": "M9a3o0IQ0Ci6"
      }
    },
    {
      "cell_type": "markdown",
      "source": [
        "Nadopunite predloženi razred `AffineCouplingLayer` s prikladnom funkcionalnošću.\n",
        "Afino miješanje transformira samo polovicu ulaznog tezora $\\mathbf{x}_{m:d}$, dok druga polovica $\\mathbf{x}_{:m}$ ostaje nepromijenjena.\n",
        "Modul miješanja `net` predviđa parametre miješanja `log_s` i `t` iz polovice ulaznog tenzora $\\mathbf{x}_{:m}$."
      ],
      "metadata": {
        "id": "DeasZwJy0BYs"
      }
    },
    {
      "cell_type": "markdown",
      "source": [
        "$$\n",
        "\\mathbf{z}_{:m} = \\mathbf{x}_{:m}\n",
        "$$\n",
        "$$\n",
        "\\mathbf{z}_{m:d} = \\exp(\\ln\\mathbf{s}) \\odot \\mathbf{x}_{m:d} + \\mathbf{t}, \\quad \\ln s, t = net(\\mathbf{x}_{:m})\n",
        "$$\n",
        "$$\n",
        "\\text{Jacobijan} = \\begin{bmatrix} \\mathbf{I} & \\mathbf{0} \\\\ \\frac{\\partial \\mathbf{z}_{m:d}}{\\partial \\mathbf{x}_{:m}} & \\text{diag}(\\exp(\\ln \\mathbf{s})) \\end{bmatrix}\n",
        "$$\n",
        "$$\n",
        "\\text{det(Jacobijan)} = det(\\text{diag}(\\exp(\\ln \\mathbf{s})))\n",
        "$$\n",
        "$$\n",
        "\\text{det(Jacobijan)} = 1 \\cdot \\prod_{i} \\exp(\\text{log(s}_i))\n",
        "$$\n",
        "$$\n",
        "\\text{log(det(Jacobijan))} = \\sum_{i} \\text{log(s}_i)\n",
        "$$"
      ],
      "metadata": {
        "id": "iwgSr-P03JOB"
      }
    },
    {
      "cell_type": "code",
      "source": [
        "class AffineCouplingLayer(_Bijection):\n",
        "    def __init__(self, net:nn.Module, m: int = None):\n",
        "        super(AffineCouplingLayer, self).__init__()\n",
        "        self.net = net\n",
        "        self.m = m\n",
        "\n",
        "    def forward(self, x): # NxD\n",
        "        if self.m is None:\n",
        "          m = int(0.5 * x.shape[0])\n",
        "\n",
        "        x1,x2 = torch.chunk(x, 2, dim=1)\n",
        "\n",
        "        log_s, t = self.net(x1)\n",
        "        z2 = torch.exp(log_s).mul(x2) + t\n",
        "\n",
        "        log_det = log_s.sum(dim=1)\n",
        "        z = torch.cat((x1, z2), dim=1)\n",
        "\n",
        "        return z , log_det # NxD , N\n",
        "\n",
        "    def inverse(self, y): # NxD\n",
        "        if self.m is None:\n",
        "          m = int(0.5 * y.shape[0])\n",
        "\n",
        "        x =  y\n",
        "\n",
        "        x1,x2 = torch.chunk(x, 2, dim=1)\n",
        "        log_s, t = self.net(x1)\n",
        "\n",
        "        x2 = (x2 - t).mul(torch.exp(-log_s))\n",
        "        x = torch.cat((x1,x2),dim=1)\n",
        "\n",
        "        return x # NxD"
      ],
      "metadata": {
        "id": "zCh0mGhOeK1Q"
      },
      "execution_count": 598,
      "outputs": []
    },
    {
      "cell_type": "markdown",
      "source": [
        "**Zadatak 6.:** Zamislimo situaciju gdje slijedno primjenjujemo više coupling slojeva. Možemo primijetiti da će se miješati samo jedna polovica tenzora. Kako bismo osigurali da se miješaju obje polovice ulaznog tenzora, uvodimo transformaciju `SwitchSides` koju ćemo primijeniti nakon svakog coupling sloja.\n",
        "Na taj način osiguravamo da miješanje provodimo naizmjenično na dvjema polovicama ulaznog tenzora. \\\n",
        "Tenzor dijelimo po dimenziji značajki. Dovršite implementaciju razreda `SwitchSides` tako da dijeli ulazni tenzor na dva dijela po dimenziji značajki i zamjenjuje im strane. Možete iskoristiti funkcije [chunk](https://pytorch.org/docs/stable/generated/torch.chunk.html) i [cat](https://pytorch.org/docs/stable/generated/torch.cat.html)."
      ],
      "metadata": {
        "id": "5O75bubJeUNM"
      }
    },
    {
      "cell_type": "code",
      "source": [
        "class SwitchSides(_Bijection):\n",
        "    def forward(self, x: Tuple[Tensor, Tensor]) -> Union[Tensor, int]:\n",
        "        x1,x2 = torch.chunk(x, 2, dim=1)\n",
        "        y = torch.cat((x2, x1), dim=1)\n",
        "        return y ,0\n",
        "\n",
        "    def inverse(self, z: Tensor) -> Tensor:\n",
        "        z1,z2 = torch.chunk(z, 2, dim=1)\n",
        "        x = torch.cat((z2, z1), dim=1)\n",
        "        return x"
      ],
      "metadata": {
        "id": "nAGiRWSqgNAl"
      },
      "execution_count": 599,
      "outputs": []
    },
    {
      "cell_type": "markdown",
      "source": [
        "**Zadatak 7.:**U nastavku je dan razred `SimpleTransform` kojeg ćemo koristiti kao modul afinog miješanja u coupling sloju. Primijetite da će primjerci tog razreda biti atributi `net` razreda `AffineCouplingLayer`.\\\n",
        "Dovršite implementaciju tako da `model` bude potpuno povezani modul sljedeće arhitekture:\n",
        "\n",
        "`fc(dim, internal_dim) -> relu -> fc(internal_dim, internal_dim) -> relu -> fc(internal_dim, 2*dim)`.\n",
        "\n",
        "Dimenziju skrivenog sloja potpuno povezanog modula određujemo parametrom `inflate_coef`. \\\n",
        "\n",
        "\n",
        "Inicijalizirajte parametre modula miješanja tako da modul provodi transformaciju koja je jednaka identitetu. \\"
      ],
      "metadata": {
        "id": "8sqlpbo-gi19"
      }
    },
    {
      "cell_type": "code",
      "source": [
        "class SimpleTransform(nn.Module):\n",
        "    def __init__(self, dim, inflate_coef=1):\n",
        "        super(SimpleTransform, self).__init__()\n",
        "        self.dim = dim\n",
        "        internal_dim = int(dim * inflate_coef)\n",
        "        self.model = nn.Sequential(\n",
        "            nn.Linear(self.dim, internal_dim),\n",
        "            nn.ReLU(),\n",
        "            nn.Linear(internal_dim, internal_dim),\n",
        "            nn.ReLU(),\n",
        "            nn.Linear(internal_dim, 2*self.dim)\n",
        "        )\n",
        "        # initialize self.model to identity\n",
        "        nn.init.zeros_(self.model[-1].weight)\n",
        "        nn.init.zeros_(self.model[-1].bias)\n",
        "\n",
        "    def forward(self, x):\n",
        "        out = self.model(x)\n",
        "        log_s, t = torch.chunk(out, dim=1, chunks=2)\n",
        "        return log_s, t"
      ],
      "metadata": {
        "id": "sLGHf7WPgiIr"
      },
      "execution_count": 600,
      "outputs": []
    },
    {
      "cell_type": "code",
      "source": [
        "class SimpleRealNVP(NormalizingFlow):\n",
        "    def __init__(self, input_dim, num_steps=2):\n",
        "        transforms = nn.Sequential()\n",
        "        for i in range(num_steps):\n",
        "            transforms.append(AffineCouplingLayer(SimpleTransform(input_dim//2)))\n",
        "            if i != num_steps - 1:\n",
        "                transforms.append(SwitchSides())\n",
        "        super(SimpleRealNVP, self).__init__(transforms, input_dim)\n"
      ],
      "metadata": {
        "id": "BB25jCUlhIly"
      },
      "execution_count": 601,
      "outputs": []
    },
    {
      "cell_type": "markdown",
      "source": [
        "Tok možemo naučiti na način kako slijedi:"
      ],
      "metadata": {
        "id": "7CsDfjxsh_qC"
      }
    },
    {
      "cell_type": "code",
      "source": [
        "flow = SimpleRealNVP(2, num_steps=7)\n",
        "optim = torch.optim.SGD(flow.parameters(), lr=1e-2, nesterov=True, momentum=0.9)\n",
        "\n",
        "for iter in range(2000):\n",
        "    optim.zero_grad()\n",
        "    log_px = flow.log_prob(D)\n",
        "    # print(log_px.shape)\n",
        "    loss = - (log_px).mean()\n",
        "    total_loss = loss\n",
        "    total_loss.backward()\n",
        "    optim.step()\n",
        "    if iter % 100 == 0:\n",
        "        print(f\"Iter {iter+1}: Loss:{loss.item()}\")"
      ],
      "metadata": {
        "id": "MrmFJy6FJFDt",
        "colab": {
          "base_uri": "https://localhost:8080/"
        },
        "outputId": "7cb4eb57-312d-40ce-9ef8-9302571eba04"
      },
      "execution_count": 602,
      "outputs": [
        {
          "output_type": "stream",
          "name": "stdout",
          "text": [
            "Iter 1: Loss:3.0862061977386475\n",
            "Iter 101: Loss:2.4553709030151367\n",
            "Iter 201: Loss:2.3695943355560303\n",
            "Iter 301: Loss:2.3652079105377197\n",
            "Iter 401: Loss:2.363537073135376\n",
            "Iter 501: Loss:2.362424373626709\n",
            "Iter 601: Loss:2.3616421222686768\n",
            "Iter 701: Loss:2.361098289489746\n",
            "Iter 801: Loss:2.360694408416748\n",
            "Iter 901: Loss:2.3602287769317627\n",
            "Iter 1001: Loss:2.3599205017089844\n",
            "Iter 1101: Loss:2.3597054481506348\n",
            "Iter 1201: Loss:2.3595428466796875\n",
            "Iter 1301: Loss:2.3594119548797607\n",
            "Iter 1401: Loss:2.3593311309814453\n",
            "Iter 1501: Loss:2.3592758178710938\n",
            "Iter 1601: Loss:2.3592357635498047\n",
            "Iter 1701: Loss:2.359200954437256\n",
            "Iter 1801: Loss:2.35917329788208\n",
            "Iter 1901: Loss:2.3591527938842773\n"
          ]
        }
      ]
    },
    {
      "cell_type": "code",
      "source": [
        "print((flow.inverse(flow(D)[0]) - D).sum())\n",
        "assert (flow.inverse(flow(D)[0]) - D).sum() < 1e-4"
      ],
      "metadata": {
        "id": "l_wcddTYw64q",
        "colab": {
          "base_uri": "https://localhost:8080/"
        },
        "outputId": "fe77d592-92e0-4f0d-fb92-46cd0219c36d"
      },
      "execution_count": 603,
      "outputs": [
        {
          "output_type": "stream",
          "name": "stdout",
          "text": [
            "tensor(-0.0001, grad_fn=<SumBackward0>)\n"
          ]
        }
      ]
    },
    {
      "cell_type": "code",
      "source": [
        "X_ = flow.sample(2000, 1).detach()\n",
        "plt.scatter(X_[:, 0], X_[:, 1], 1)\n",
        "plt.show()"
      ],
      "metadata": {
        "id": "jDy--jYaJO2Q",
        "colab": {
          "base_uri": "https://localhost:8080/",
          "height": 431
        },
        "outputId": "19e9da56-d865-4b48-ef2f-56b464147eb8"
      },
      "execution_count": 604,
      "outputs": [
        {
          "output_type": "display_data",
          "data": {
            "text/plain": [
              "<Figure size 640x480 with 1 Axes>"
            ],
            "image/png": "[encoded data removed]"
          },
          "metadata": {}
        }
      ]
    },
    {
      "cell_type": "code",
      "source": [
        "plt.clf()\n",
        "plt.scatter(D[:, 0], D[:, 1], 1)\n",
        "plt.scatter(X_[:, 0], X_[:, 1], 1)"
      ],
      "metadata": {
        "id": "5TIb8DhgJpB1",
        "colab": {
          "base_uri": "https://localhost:8080/",
          "height": 449
        },
        "outputId": "978e2f79-9303-422a-f1f8-fbcbc74fe505"
      },
      "execution_count": 605,
      "outputs": [
        {
          "output_type": "execute_result",
          "data": {
            "text/plain": [
              "<matplotlib.collections.PathCollection at 0x7f055d287210>"
            ]
          },
          "metadata": {},
          "execution_count": 605
        },
        {
          "output_type": "display_data",
          "data": {
            "text/plain": [
              "<Figure size 640x480 with 1 Axes>"
            ],
            "image/png": "[encoded data removed]"
          },
          "metadata": {}
        }
      ]
    },
    {
      "cell_type": "markdown",
      "source": [
        "Kao što vidite, kapacitetniji tok uspijeva dobro aproksimirati dani skup podataka."
      ],
      "metadata": {
        "id": "YXCecEFb-ae8"
      }
    },
    {
      "cell_type": "markdown",
      "source": [
        "## Modeliranje slika normalizirajućim tokom"
      ],
      "metadata": {
        "id": "cntMrCuDwlkj"
      }
    },
    {
      "cell_type": "markdown",
      "source": [
        "Naš sljedeći zadatak je modelirati distribuciju slika s normalizirajućim tokom. Slike možemo prestaviti diskretnim tenzorom $\\mathbf{x} \\in [0, 255]^{C \\times H \\times W}$. Prisjetimo se da smo normalizirajući tok definirali za kontinuirane slučajne varijable. Stoga, potrebno je transfrormirati skup podataka u kontinuiranu domenu pomoću zašumljivanja:\n",
        "\n",
        "$$\n",
        "\\mathbf{y} = \\mathbf{x} + \\mathbf{u}, \\quad \\mathbf{u} \\sim \\mathrm{U}[0, 1)\n",
        "$$\n",
        "U prestavlja uniformnu razdiobu. Sada, naš model uči modelirati zašumljenu sliku. Više o dekvantizaciji zašumljivanjem možete pronaći [ovdje](https://arxiv.org/pdf/1511.01844.pdf).\n",
        "\n",
        "MNIST je skup jednostavnih slika pa ćemo se sljedećim pojednostavljenjem. Sliku ćemo ispeglati u vektor i normalizirajućim tokom učiti takvu reprezentaciju slike.\n",
        "\n",
        "U nastavku je dan kod za pripremanje skupa slika."
      ],
      "metadata": {
        "id": "fihSoOBAfgWD"
      }
    },
    {
      "cell_type": "code",
      "source": [
        "from torchvision.datasets import MNIST\n",
        "import torchvision.transforms as tf\n",
        "from torch.utils.data import DataLoader, Subset"
      ],
      "metadata": {
        "id": "mjAxWg880ZoT"
      },
      "execution_count": 606,
      "outputs": []
    },
    {
      "cell_type": "code",
      "source": [
        "train_ds = MNIST('.', train=True, download=True, transform=tf.Compose([tf.Resize(14), tf.ToTensor()]))\n",
        "test_ds = MNIST('.', train=False, download=True, transform=tf.Compose([tf.Resize(14), tf.ToTensor()]))\n",
        "\n",
        "selected_number = 0\n",
        "\n",
        "indices = [r[0] for r in list(filter(lambda x: x[1] == selected_number ,[(i, train_ds[i][1]) for i in range(len(train_ds))]))]\n",
        "train_ds = Subset(train_ds, indices)\n",
        "\n",
        "indices = [r[0] for r in list(filter(lambda x: x[1] == selected_number ,[(i, test_ds[i][1]) for i in range(len(test_ds))]))]\n",
        "test_ds = Subset(test_ds, indices)\n",
        "\n",
        "train_loader = DataLoader(train_ds, batch_size=128, shuffle=True)\n",
        "test_loader = DataLoader(test_ds, batch_size=128, shuffle=False)"
      ],
      "metadata": {
        "id": "hlg0BSAw0bGb",
        "colab": {
          "base_uri": "https://localhost:8080/"
        },
        "outputId": "a5442297-a279-47bb-d19b-636fea9ef015"
      },
      "execution_count": 607,
      "outputs": [
        {
          "output_type": "stream",
          "name": "stdout",
          "text": [
            "Downloading http://yann.lecun.com/exdb/mnist/train-images-idx3-ubyte.gz\n",
            "Failed to download (trying next):\n",
            "<urlopen error [Errno 111] Connection refused>\n",
            "\n",
            "Downloading https://ossci-datasets.s3.amazonaws.com/mnist/train-images-idx3-ubyte.gz\n",
            "Downloading https://ossci-datasets.s3.amazonaws.com/mnist/train-images-idx3-ubyte.gz to ./MNIST/raw/train-images-idx3-ubyte.gz\n"
          ]
        },
        {
          "output_type": "stream",
          "name": "stderr",
          "text": [
            "100%|██████████| 9.91M/9.91M [00:01<00:00, 5.86MB/s]\n"
          ]
        },
        {
          "output_type": "stream",
          "name": "stdout",
          "text": [
            "Extracting ./MNIST/raw/train-images-idx3-ubyte.gz to ./MNIST/raw\n",
            "\n",
            "Downloading http://yann.lecun.com/exdb/mnist/train-labels-idx1-ubyte.gz\n",
            "Failed to download (trying next):\n",
            "<urlopen error [Errno 111] Connection refused>\n",
            "\n",
            "Downloading https://ossci-datasets.s3.amazonaws.com/mnist/train-labels-idx1-ubyte.gz\n",
            "Downloading https://ossci-datasets.s3.amazonaws.com/mnist/train-labels-idx1-ubyte.gz to ./MNIST/raw/train-labels-idx1-ubyte.gz\n"
          ]
        },
        {
          "output_type": "stream",
          "name": "stderr",
          "text": [
            "100%|██████████| 28.9k/28.9k [00:00<00:00, 153kB/s]\n"
          ]
        },
        {
          "output_type": "stream",
          "name": "stdout",
          "text": [
            "Extracting ./MNIST/raw/train-labels-idx1-ubyte.gz to ./MNIST/raw\n",
            "\n",
            "Downloading http://yann.lecun.com/exdb/mnist/t10k-images-idx3-ubyte.gz\n",
            "Failed to download (trying next):\n",
            "<urlopen error [Errno 111] Connection refused>\n",
            "\n",
            "Downloading https://ossci-datasets.s3.amazonaws.com/mnist/t10k-images-idx3-ubyte.gz\n",
            "Downloading https://ossci-datasets.s3.amazonaws.com/mnist/t10k-images-idx3-ubyte.gz to ./MNIST/raw/t10k-images-idx3-ubyte.gz\n"
          ]
        },
        {
          "output_type": "stream",
          "name": "stderr",
          "text": [
            "100%|██████████| 1.65M/1.65M [00:01<00:00, 1.46MB/s]\n"
          ]
        },
        {
          "output_type": "stream",
          "name": "stdout",
          "text": [
            "Extracting ./MNIST/raw/t10k-images-idx3-ubyte.gz to ./MNIST/raw\n",
            "\n",
            "Downloading http://yann.lecun.com/exdb/mnist/t10k-labels-idx1-ubyte.gz\n",
            "Failed to download (trying next):\n",
            "<urlopen error [Errno 111] Connection refused>\n",
            "\n",
            "Downloading https://ossci-datasets.s3.amazonaws.com/mnist/t10k-labels-idx1-ubyte.gz\n",
            "Downloading https://ossci-datasets.s3.amazonaws.com/mnist/t10k-labels-idx1-ubyte.gz to ./MNIST/raw/t10k-labels-idx1-ubyte.gz\n"
          ]
        },
        {
          "output_type": "stream",
          "name": "stderr",
          "text": [
            "100%|██████████| 4.54k/4.54k [00:00<00:00, 4.99MB/s]\n"
          ]
        },
        {
          "output_type": "stream",
          "name": "stdout",
          "text": [
            "Extracting ./MNIST/raw/t10k-labels-idx1-ubyte.gz to ./MNIST/raw\n",
            "\n"
          ]
        }
      ]
    },
    {
      "cell_type": "code",
      "source": [
        "def plot_mnist(samples, num_row, num_col):\n",
        "    assert len(samples) ==  num_row * num_col\n",
        "    fig, axes = plt.subplots(num_row, num_col, figsize=(1.5*num_col,2*num_row))\n",
        "    for i in range(len(samples)):\n",
        "        ax = axes[i//num_col, i%num_col]\n",
        "        ax.imshow(samples[i], cmap='gray')\n",
        "    plt.tight_layout()\n",
        "    plt.show()"
      ],
      "metadata": {
        "id": "MBQdhaR2o1y4"
      },
      "execution_count": 608,
      "outputs": []
    },
    {
      "cell_type": "code",
      "source": [
        "samples = [train_ds[i][0][0] for i in range(10)]\n",
        "plot_mnist(samples, 2, 5)"
      ],
      "metadata": {
        "id": "8plOmcG3o7O6",
        "colab": {
          "base_uri": "https://localhost:8080/",
          "height": 350
        },
        "outputId": "fd51bbb8-d674-404b-f06e-229d45098929"
      },
      "execution_count": 609,
      "outputs": [
        {
          "output_type": "display_data",
          "data": {
            "text/plain": [
              "<Figure size 750x400 with 10 Axes>"
            ],
            "image/png": "[encoded data removed]"
          },
          "metadata": {}
        }
      ]
    },
    {
      "cell_type": "markdown",
      "source": [
        "**Zadatak 8.:** Predložite arhitekturu toka koji će moći naučiti distribuciju vektoriziranih slika. Predlažemo koristiti rezidualni blok sljedeće arhitekture.\n",
        "\n",
        "`fc(dim, dim) -> BN -> relu -> fc(dim, dim) -> relu`\n",
        "\n",
        "Potrebno je dodati rezidualnu vezu od ulaza u rezidualni blok do latentne reprezentacije prije posljednje zglobnice.\n",
        "Dovršite implementaciju i validirajte utjecaj batchnorma na proces učenja i konačne rezultate."
      ],
      "metadata": {
        "id": "5xkU9mPWkiwy"
      }
    },
    {
      "cell_type": "code",
      "source": [
        "class ResidualBlock(nn.Module):\n",
        "    def __init__(self, dim, use_bn=False):\n",
        "        super(ResidualBlock, self).__init__()\n",
        "        self.layers = nn.Sequential()\n",
        "        # ...\n",
        "\n",
        "    def forward(self, x):\n",
        "        identity = x\n",
        "        out = self.layers(x)\n",
        "        out = out + identity\n",
        "        return self.f_relu(out)"
      ],
      "metadata": {
        "id": "5RJt87gc9HoI"
      },
      "execution_count": 610,
      "outputs": []
    },
    {
      "cell_type": "markdown",
      "source": [
        "**Zadatak 9.:** Po uzoru na razred `SimpleTransform` dovršite implementaciju razreda `SimpleResidualTransform` čiji se modul miješanja sastoji od rezidualnih blokova. Predlažemo sljedeću arhitekturu:\n",
        "\n",
        "`fc(dim, internal_dim) -> relu -> res_block(internal_dim, internal_dim) -> fc(internal_dim, 2*dim)`\n",
        "\n",
        "Eksperimentirajte s brojem rezidualnih blokova. Kako broj rezidualnih blokova utječe na rezultate?"
      ],
      "metadata": {
        "id": "zaPosHKakhA8"
      }
    },
    {
      "cell_type": "code",
      "source": [
        "class SimpleResidualTransform(nn.Module):\n",
        "    def __init__(self, dim, inflate_coef=1):\n",
        "        super(SimpleResidualTransform, self).__init__()\n",
        "        # ...\n",
        "\n",
        "    def forward(self, x):\n",
        "        # ..."
      ],
      "metadata": {
        "id": "Cdj5_SS1kS1B",
        "colab": {
          "base_uri": "https://localhost:8080/",
          "height": 109
        },
        "outputId": "87df64cb-0d27-4548-acd3-6a42627ffde6"
      },
      "execution_count": 611,
      "outputs": [
        {
          "output_type": "error",
          "ename": "SyntaxError",
          "evalue": "incomplete input (<ipython-input-611-df76a9f996a7>, line 7)",
          "traceback": [
            "\u001b[0;36m  File \u001b[0;32m\"<ipython-input-611-df76a9f996a7>\"\u001b[0;36m, line \u001b[0;32m7\u001b[0m\n\u001b[0;31m    # ...\u001b[0m\n\u001b[0m         ^\u001b[0m\n\u001b[0;31mSyntaxError\u001b[0m\u001b[0;31m:\u001b[0m incomplete input\n"
          ]
        }
      ]
    },
    {
      "cell_type": "markdown",
      "source": [
        "**Zadatak 10.:** Dovršte implementaciju razreda `RealNVP` po uzoru na `SimpleRealNVP`. `RealNVP` treba koristiti `SimpleResidualTransform` umjesto `SimpleTransform` kao modul miješanja."
      ],
      "metadata": {
        "id": "378krGZ-zZUh"
      }
    },
    {
      "cell_type": "code",
      "source": [
        "class RealNVP(NormalizingFlow):\n",
        "    def __init__(self, input_dim, num_steps=2):\n",
        "        transforms = nn.Sequential()\n",
        "        # ... define transforms\n",
        "        super(RealNVP, self).__init__(transforms, input_dim)"
      ],
      "metadata": {
        "id": "4wi9loJekhwN"
      },
      "execution_count": null,
      "outputs": []
    },
    {
      "cell_type": "markdown",
      "source": [
        "U nastavku je kod za učenje toka.\n",
        "\n",
        "Obratite pozornost na to da izglednost slike prikazujemo u bitovima po dimenziji (BPD). Podsjetite se što ta mjera predstavlja i kako ju računamo."
      ],
      "metadata": {
        "id": "uPJ_jdPGz7F9"
      }
    },
    {
      "cell_type": "code",
      "source": [
        "device = 'cuda'\n",
        "flow = RealNVP(14*14, num_steps=21).to(device)\n",
        "optim = torch.optim.AdamW(flow.parameters(), lr=1e-5)\n",
        "epochs = 1000\n",
        "bits = 8\n",
        "for ep in range(epochs):\n",
        "    total_loss = 0.\n",
        "    iters = 0\n",
        "    for x, _ in train_loader:\n",
        "        x = (x * 255).long()\n",
        "        u = torch.rand_like(x.float())\n",
        "        x = x + u\n",
        "        x = x / (2 ** bits)\n",
        "        x = x.flatten(start_dim=1)\n",
        "\n",
        "        optim.zero_grad()\n",
        "        log_px = flow.log_prob(x.to(device)) - np.log((2 ** bits)) * (14 * 14)\n",
        "        loss = - (log_px).mean()\n",
        "        loss.backward()\n",
        "        optim.step()\n",
        "        iters += 1\n",
        "        total_loss += loss.item()\n",
        "    if ep % 10 == 0:\n",
        "        with torch.no_grad():\n",
        "            val_iters = 0\n",
        "            total_bpd = 0.\n",
        "            for x, _ in test_loader:\n",
        "                x = (x * 255).long()\n",
        "                u = torch.rand_like(x.float())\n",
        "                x = x + u\n",
        "                x = x / (2 ** bits)\n",
        "                x = x.flatten(start_dim=1)\n",
        "                log_px = flow.log_prob(x.to(device)) - np.log((2 ** bits)) * (14 * 14)\n",
        "                bpd = -(log_px).mean().cpu() / (np.log(2) * (14 * 14))\n",
        "                total_bpd += bpd\n",
        "                val_iters += 1\n",
        "        samples = flow.sample(10).detach().cpu()\n",
        "        samples = torch.unflatten(samples, dim=1, sizes=(14, 14)).unsqueeze(1)\n",
        "\n",
        "        plot_mnist(samples[:, 0], 2, 5)\n",
        "\n",
        "        print(f\"Epoch {ep+1}: Train Loss:{total_loss / iters} Val BPD: {total_bpd / val_iters}\")"
      ],
      "metadata": {
        "id": "X9Uiqr_E0XOj"
      },
      "execution_count": null,
      "outputs": []
    },
    {
      "cell_type": "code",
      "source": [
        "samples = flow.sample(10).detach().cpu()\n",
        "samples = torch.unflatten(samples, dim=1, sizes=(14, 14)).unsqueeze(1)\n",
        "plot_mnist(samples[:,0], 2, 5)"
      ],
      "metadata": {
        "id": "DQ6XLhRHjGp3"
      },
      "execution_count": null,
      "outputs": []
    },
    {
      "cell_type": "markdown",
      "source": [
        "## Bonus zadatak\n",
        "\n",
        "Predložite implementaciju konvolucijskog normalizirajućeg toka."
      ],
      "metadata": {
        "id": "VP_LQwbL-qY7"
      }
    },
    {
      "cell_type": "code",
      "source": [],
      "metadata": {
        "id": "VK1nTCkD6aAL"
      },
      "execution_count": null,
      "outputs": []
    }
  ]
}